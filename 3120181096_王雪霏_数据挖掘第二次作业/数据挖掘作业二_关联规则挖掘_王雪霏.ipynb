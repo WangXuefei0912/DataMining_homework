{
 "cells": [
  {
   "cell_type": "markdown",
   "metadata": {},
   "source": [
    "# 数据挖掘大作业二：关联规则挖掘"
   ]
  },
  {
   "cell_type": "markdown",
   "metadata": {},
   "source": [
    "## 一、对数据集进行处理，转换成适合关联规则挖掘的形式（TouTube/USvideos.csv数据集）"
   ]
  },
  {
   "cell_type": "markdown",
   "metadata": {},
   "source": [
    "### 因为主要选用经典的Apriori算法进行关联规则挖掘，而Apriori算法适用于对布尔属性（即二值属性）进行分析，因此为了提高分析效率，在数据预处理阶段主要想法是设计方案使得原数据中的多值属性转换为二值属性（虽然转换成二值属性会丢失一些信息，但尝试了不转换发现运行过慢）"
   ]
  },
  {
   "cell_type": "code",
   "execution_count": 1,
   "metadata": {},
   "outputs": [],
   "source": [
    "%matplotlib inline\n",
    "import numpy as np\n",
    "import pandas as pd\n",
    "df = pd.read_csv(\"/home/wangxuefei/Downloads/Dataset/youtube-new/USvideos.csv\")"
   ]
  },
  {
   "cell_type": "markdown",
   "metadata": {},
   "source": [
    "### 打印原数据集中的前5行，熟悉一下数据集"
   ]
  },
  {
   "cell_type": "code",
   "execution_count": 2,
   "metadata": {},
   "outputs": [
    {
     "data": {
      "text/html": [
       "<div>\n",
       "<style scoped>\n",
       "    .dataframe tbody tr th:only-of-type {\n",
       "        vertical-align: middle;\n",
       "    }\n",
       "\n",
       "    .dataframe tbody tr th {\n",
       "        vertical-align: top;\n",
       "    }\n",
       "\n",
       "    .dataframe thead th {\n",
       "        text-align: right;\n",
       "    }\n",
       "</style>\n",
       "<table border=\"1\" class=\"dataframe\">\n",
       "  <thead>\n",
       "    <tr style=\"text-align: right;\">\n",
       "      <th></th>\n",
       "      <th>video_id</th>\n",
       "      <th>trending_date</th>\n",
       "      <th>title</th>\n",
       "      <th>channel_title</th>\n",
       "      <th>category_id</th>\n",
       "      <th>publish_time</th>\n",
       "      <th>tags</th>\n",
       "      <th>views</th>\n",
       "      <th>likes</th>\n",
       "      <th>dislikes</th>\n",
       "      <th>comment_count</th>\n",
       "      <th>thumbnail_link</th>\n",
       "      <th>comments_disabled</th>\n",
       "      <th>ratings_disabled</th>\n",
       "      <th>video_error_or_removed</th>\n",
       "      <th>description</th>\n",
       "    </tr>\n",
       "  </thead>\n",
       "  <tbody>\n",
       "    <tr>\n",
       "      <th>0</th>\n",
       "      <td>2kyS6SvSYSE</td>\n",
       "      <td>17.14.11</td>\n",
       "      <td>WE WANT TO TALK ABOUT OUR MARRIAGE</td>\n",
       "      <td>CaseyNeistat</td>\n",
       "      <td>22</td>\n",
       "      <td>2017-11-13T17:13:01.000Z</td>\n",
       "      <td>SHANtell martin</td>\n",
       "      <td>748374</td>\n",
       "      <td>57527</td>\n",
       "      <td>2966</td>\n",
       "      <td>15954</td>\n",
       "      <td>https://i.ytimg.com/vi/2kyS6SvSYSE/default.jpg</td>\n",
       "      <td>False</td>\n",
       "      <td>False</td>\n",
       "      <td>False</td>\n",
       "      <td>SHANTELL'S CHANNEL - https://www.youtube.com/s...</td>\n",
       "    </tr>\n",
       "    <tr>\n",
       "      <th>1</th>\n",
       "      <td>1ZAPwfrtAFY</td>\n",
       "      <td>17.14.11</td>\n",
       "      <td>The Trump Presidency: Last Week Tonight with J...</td>\n",
       "      <td>LastWeekTonight</td>\n",
       "      <td>24</td>\n",
       "      <td>2017-11-13T07:30:00.000Z</td>\n",
       "      <td>last week tonight trump presidency|\"last week ...</td>\n",
       "      <td>2418783</td>\n",
       "      <td>97185</td>\n",
       "      <td>6146</td>\n",
       "      <td>12703</td>\n",
       "      <td>https://i.ytimg.com/vi/1ZAPwfrtAFY/default.jpg</td>\n",
       "      <td>False</td>\n",
       "      <td>False</td>\n",
       "      <td>False</td>\n",
       "      <td>One year after the presidential election, John...</td>\n",
       "    </tr>\n",
       "    <tr>\n",
       "      <th>2</th>\n",
       "      <td>5qpjK5DgCt4</td>\n",
       "      <td>17.14.11</td>\n",
       "      <td>Racist Superman | Rudy Mancuso, King Bach &amp; Le...</td>\n",
       "      <td>Rudy Mancuso</td>\n",
       "      <td>23</td>\n",
       "      <td>2017-11-12T19:05:24.000Z</td>\n",
       "      <td>racist superman|\"rudy\"|\"mancuso\"|\"king\"|\"bach\"...</td>\n",
       "      <td>3191434</td>\n",
       "      <td>146033</td>\n",
       "      <td>5339</td>\n",
       "      <td>8181</td>\n",
       "      <td>https://i.ytimg.com/vi/5qpjK5DgCt4/default.jpg</td>\n",
       "      <td>False</td>\n",
       "      <td>False</td>\n",
       "      <td>False</td>\n",
       "      <td>WATCH MY PREVIOUS VIDEO ▶ \\n\\nSUBSCRIBE ► http...</td>\n",
       "    </tr>\n",
       "    <tr>\n",
       "      <th>3</th>\n",
       "      <td>puqaWrEC7tY</td>\n",
       "      <td>17.14.11</td>\n",
       "      <td>Nickelback Lyrics: Real or Fake?</td>\n",
       "      <td>Good Mythical Morning</td>\n",
       "      <td>24</td>\n",
       "      <td>2017-11-13T11:00:04.000Z</td>\n",
       "      <td>rhett and link|\"gmm\"|\"good mythical morning\"|\"...</td>\n",
       "      <td>343168</td>\n",
       "      <td>10172</td>\n",
       "      <td>666</td>\n",
       "      <td>2146</td>\n",
       "      <td>https://i.ytimg.com/vi/puqaWrEC7tY/default.jpg</td>\n",
       "      <td>False</td>\n",
       "      <td>False</td>\n",
       "      <td>False</td>\n",
       "      <td>Today we find out if Link is a Nickelback amat...</td>\n",
       "    </tr>\n",
       "    <tr>\n",
       "      <th>4</th>\n",
       "      <td>d380meD0W0M</td>\n",
       "      <td>17.14.11</td>\n",
       "      <td>I Dare You: GOING BALD!?</td>\n",
       "      <td>nigahiga</td>\n",
       "      <td>24</td>\n",
       "      <td>2017-11-12T18:01:41.000Z</td>\n",
       "      <td>ryan|\"higa\"|\"higatv\"|\"nigahiga\"|\"i dare you\"|\"...</td>\n",
       "      <td>2095731</td>\n",
       "      <td>132235</td>\n",
       "      <td>1989</td>\n",
       "      <td>17518</td>\n",
       "      <td>https://i.ytimg.com/vi/d380meD0W0M/default.jpg</td>\n",
       "      <td>False</td>\n",
       "      <td>False</td>\n",
       "      <td>False</td>\n",
       "      <td>I know it's been a while since we did this sho...</td>\n",
       "    </tr>\n",
       "  </tbody>\n",
       "</table>\n",
       "</div>"
      ],
      "text/plain": [
       "      video_id trending_date  \\\n",
       "0  2kyS6SvSYSE      17.14.11   \n",
       "1  1ZAPwfrtAFY      17.14.11   \n",
       "2  5qpjK5DgCt4      17.14.11   \n",
       "3  puqaWrEC7tY      17.14.11   \n",
       "4  d380meD0W0M      17.14.11   \n",
       "\n",
       "                                               title          channel_title  \\\n",
       "0                 WE WANT TO TALK ABOUT OUR MARRIAGE           CaseyNeistat   \n",
       "1  The Trump Presidency: Last Week Tonight with J...        LastWeekTonight   \n",
       "2  Racist Superman | Rudy Mancuso, King Bach & Le...           Rudy Mancuso   \n",
       "3                   Nickelback Lyrics: Real or Fake?  Good Mythical Morning   \n",
       "4                           I Dare You: GOING BALD!?               nigahiga   \n",
       "\n",
       "   category_id              publish_time  \\\n",
       "0           22  2017-11-13T17:13:01.000Z   \n",
       "1           24  2017-11-13T07:30:00.000Z   \n",
       "2           23  2017-11-12T19:05:24.000Z   \n",
       "3           24  2017-11-13T11:00:04.000Z   \n",
       "4           24  2017-11-12T18:01:41.000Z   \n",
       "\n",
       "                                                tags    views   likes  \\\n",
       "0                                    SHANtell martin   748374   57527   \n",
       "1  last week tonight trump presidency|\"last week ...  2418783   97185   \n",
       "2  racist superman|\"rudy\"|\"mancuso\"|\"king\"|\"bach\"...  3191434  146033   \n",
       "3  rhett and link|\"gmm\"|\"good mythical morning\"|\"...   343168   10172   \n",
       "4  ryan|\"higa\"|\"higatv\"|\"nigahiga\"|\"i dare you\"|\"...  2095731  132235   \n",
       "\n",
       "   dislikes  comment_count                                  thumbnail_link  \\\n",
       "0      2966          15954  https://i.ytimg.com/vi/2kyS6SvSYSE/default.jpg   \n",
       "1      6146          12703  https://i.ytimg.com/vi/1ZAPwfrtAFY/default.jpg   \n",
       "2      5339           8181  https://i.ytimg.com/vi/5qpjK5DgCt4/default.jpg   \n",
       "3       666           2146  https://i.ytimg.com/vi/puqaWrEC7tY/default.jpg   \n",
       "4      1989          17518  https://i.ytimg.com/vi/d380meD0W0M/default.jpg   \n",
       "\n",
       "   comments_disabled  ratings_disabled  video_error_or_removed  \\\n",
       "0              False             False                   False   \n",
       "1              False             False                   False   \n",
       "2              False             False                   False   \n",
       "3              False             False                   False   \n",
       "4              False             False                   False   \n",
       "\n",
       "                                         description  \n",
       "0  SHANTELL'S CHANNEL - https://www.youtube.com/s...  \n",
       "1  One year after the presidential election, John...  \n",
       "2  WATCH MY PREVIOUS VIDEO ▶ \\n\\nSUBSCRIBE ► http...  \n",
       "3  Today we find out if Link is a Nickelback amat...  \n",
       "4  I know it's been a while since we did this sho...  "
      ]
     },
     "execution_count": 2,
     "metadata": {},
     "output_type": "execute_result"
    }
   ],
   "source": [
    "df.head()"
   ]
  },
  {
   "cell_type": "markdown",
   "metadata": {},
   "source": [
    "## 1、数据压缩"
   ]
  },
  {
   "cell_type": "markdown",
   "metadata": {},
   "source": [
    "### 分析：  原数据集一共含有16个属性，考虑到数据转换的实际情况，这里主要选取了价值较高的9列进行关联规则挖掘，分别为：publish_time \t、views、likes、dislikes、comment_count、comments_disabled、ratings_disabled、video_error_or_removed、category_id（video_id虽保留，但并未实际使用，只是作为标识），其他属性如thumbnail_link、description等价值较低且不易转换，故舍弃。"
   ]
  },
  {
   "cell_type": "markdown",
   "metadata": {},
   "source": [
    "#### 将选取的属性保存到一个新的data_select.csv文件中"
   ]
  },
  {
   "cell_type": "code",
   "execution_count": 3,
   "metadata": {},
   "outputs": [],
   "source": [
    "output='/home/wangxuefei/Data_mining/data_select.csv'\n",
    "\n",
    "def readwrite(output_file):\n",
    "    data_1 = df\n",
    "    data_1[['video_id','publish_time', 'views', 'likes', 'dislikes', 'comment_count', 'comments_disabled', 'ratings_disabled',\n",
    "            'video_error_or_removed','category_id']].to_csv(output_file, sep=',', header=True,index=False)\n",
    "readwrite(output)"
   ]
  },
  {
   "cell_type": "markdown",
   "metadata": {},
   "source": [
    "#### 打印data_select.csv文件前5行内容，如下表所示"
   ]
  },
  {
   "cell_type": "code",
   "execution_count": 4,
   "metadata": {},
   "outputs": [
    {
     "data": {
      "text/html": [
       "<div>\n",
       "<style scoped>\n",
       "    .dataframe tbody tr th:only-of-type {\n",
       "        vertical-align: middle;\n",
       "    }\n",
       "\n",
       "    .dataframe tbody tr th {\n",
       "        vertical-align: top;\n",
       "    }\n",
       "\n",
       "    .dataframe thead th {\n",
       "        text-align: right;\n",
       "    }\n",
       "</style>\n",
       "<table border=\"1\" class=\"dataframe\">\n",
       "  <thead>\n",
       "    <tr style=\"text-align: right;\">\n",
       "      <th></th>\n",
       "      <th>video_id</th>\n",
       "      <th>publish_time</th>\n",
       "      <th>views</th>\n",
       "      <th>likes</th>\n",
       "      <th>dislikes</th>\n",
       "      <th>comment_count</th>\n",
       "      <th>comments_disabled</th>\n",
       "      <th>ratings_disabled</th>\n",
       "      <th>video_error_or_removed</th>\n",
       "      <th>category_id</th>\n",
       "    </tr>\n",
       "  </thead>\n",
       "  <tbody>\n",
       "    <tr>\n",
       "      <th>0</th>\n",
       "      <td>2kyS6SvSYSE</td>\n",
       "      <td>2017-11-13T17:13:01.000Z</td>\n",
       "      <td>748374</td>\n",
       "      <td>57527</td>\n",
       "      <td>2966</td>\n",
       "      <td>15954</td>\n",
       "      <td>False</td>\n",
       "      <td>False</td>\n",
       "      <td>False</td>\n",
       "      <td>22</td>\n",
       "    </tr>\n",
       "    <tr>\n",
       "      <th>1</th>\n",
       "      <td>1ZAPwfrtAFY</td>\n",
       "      <td>2017-11-13T07:30:00.000Z</td>\n",
       "      <td>2418783</td>\n",
       "      <td>97185</td>\n",
       "      <td>6146</td>\n",
       "      <td>12703</td>\n",
       "      <td>False</td>\n",
       "      <td>False</td>\n",
       "      <td>False</td>\n",
       "      <td>24</td>\n",
       "    </tr>\n",
       "    <tr>\n",
       "      <th>2</th>\n",
       "      <td>5qpjK5DgCt4</td>\n",
       "      <td>2017-11-12T19:05:24.000Z</td>\n",
       "      <td>3191434</td>\n",
       "      <td>146033</td>\n",
       "      <td>5339</td>\n",
       "      <td>8181</td>\n",
       "      <td>False</td>\n",
       "      <td>False</td>\n",
       "      <td>False</td>\n",
       "      <td>23</td>\n",
       "    </tr>\n",
       "    <tr>\n",
       "      <th>3</th>\n",
       "      <td>puqaWrEC7tY</td>\n",
       "      <td>2017-11-13T11:00:04.000Z</td>\n",
       "      <td>343168</td>\n",
       "      <td>10172</td>\n",
       "      <td>666</td>\n",
       "      <td>2146</td>\n",
       "      <td>False</td>\n",
       "      <td>False</td>\n",
       "      <td>False</td>\n",
       "      <td>24</td>\n",
       "    </tr>\n",
       "    <tr>\n",
       "      <th>4</th>\n",
       "      <td>d380meD0W0M</td>\n",
       "      <td>2017-11-12T18:01:41.000Z</td>\n",
       "      <td>2095731</td>\n",
       "      <td>132235</td>\n",
       "      <td>1989</td>\n",
       "      <td>17518</td>\n",
       "      <td>False</td>\n",
       "      <td>False</td>\n",
       "      <td>False</td>\n",
       "      <td>24</td>\n",
       "    </tr>\n",
       "  </tbody>\n",
       "</table>\n",
       "</div>"
      ],
      "text/plain": [
       "      video_id              publish_time    views   likes  dislikes  \\\n",
       "0  2kyS6SvSYSE  2017-11-13T17:13:01.000Z   748374   57527      2966   \n",
       "1  1ZAPwfrtAFY  2017-11-13T07:30:00.000Z  2418783   97185      6146   \n",
       "2  5qpjK5DgCt4  2017-11-12T19:05:24.000Z  3191434  146033      5339   \n",
       "3  puqaWrEC7tY  2017-11-13T11:00:04.000Z   343168   10172       666   \n",
       "4  d380meD0W0M  2017-11-12T18:01:41.000Z  2095731  132235      1989   \n",
       "\n",
       "   comment_count  comments_disabled  ratings_disabled  video_error_or_removed  \\\n",
       "0          15954              False             False                   False   \n",
       "1          12703              False             False                   False   \n",
       "2           8181              False             False                   False   \n",
       "3           2146              False             False                   False   \n",
       "4          17518              False             False                   False   \n",
       "\n",
       "   category_id  \n",
       "0           22  \n",
       "1           24  \n",
       "2           23  \n",
       "3           24  \n",
       "4           24  "
      ]
     },
     "execution_count": 4,
     "metadata": {},
     "output_type": "execute_result"
    }
   ],
   "source": [
    "pd.read_csv(\"/home/wangxuefei/Data_mining/data_select.csv\").head()"
   ]
  },
  {
   "cell_type": "markdown",
   "metadata": {},
   "source": [
    "## 2、数据转化：转换成0-1矩阵"
   ]
  },
  {
   "cell_type": "markdown",
   "metadata": {},
   "source": [
    "### 因为要将多值属性表示成二值（0\\1），出于第一次作业对原始数据集分析的观察采用如下转换策略：\n",
    "\n",
    "（1）对于publish_time 属性，大体上分布在2017年和2018年（有极少数的其他时间，忽略不计），所以这里发布时间为2017年的用‘0’表示， 发布时间为2018年的用‘1’表示；\n",
    "\n",
    "（2）views、likes、dislikes、comment_count四个属性均为连续型数值属性，根据其分布特点，选择将大于其‘中位数’的值表示为‘1’，小于其‘中位数’的值表示为‘0’；\n",
    "\n",
    "（3）comments_disabled、ratings_disabled、video_error_or_removed分别为三个布尔属性，因为绝大多数值为False,为了防止矩阵过于稀疏，这里将取False的值表示为‘1’，取True的值表示为‘0’；\n",
    "\n",
    "（4）category_id为连续型数值属性，因为此属性较为关键，且值所分布的范围较小，所以没有同（2）进行相同的处理，而是单独处理。category_id的值分布在1～43之间，且大多持集中在15~25的区间内，所以这里将其划分为三个区间，分别为1~15、 15~25、 25以上，并分别用三个二值字段category_id_1、 category_id_2、 category_id_3表示（原来的category_id删掉）。\n",
    "代码如下："
   ]
  },
  {
   "cell_type": "code",
   "execution_count": 5,
   "metadata": {},
   "outputs": [],
   "source": [
    "df2 = pd.read_csv(\"/home/wangxuefei/Data_mining/data_select.csv\")\n",
    "df2['publish_time'] = np.where(df2['publish_time'].str.match('2017'),0,1)\n",
    "\n",
    "def data_process1(data):\n",
    "    for col in ('views','likes','dislikes','comment_count'):\n",
    "        data[col] = np.where(data[col] < data[col].median(),0,1)\n",
    "    return data\n",
    "df2=data_process1(df2)\n",
    "\n",
    "def data_process2(data):\n",
    "    for col in ('comments_disabled','ratings_disabled','video_error_or_removed'):\n",
    "        data[col] = np.where(data[col]==False,1,0)\n",
    "    return data\n",
    "df2=data_process2(df2)\n",
    "\n",
    "df2['category_id_1']=np.where(df2['category_id'] <= 15,1,0)\n",
    "df2['category_id_2']=np.where(((df2['category_id'] > 15) & (df2['category_id'] <= 25)),1,0)\n",
    "df2['category_id_3']=np.where(df2['category_id'] > 25,1,0)\n",
    "\n",
    "del df2['category_id']\n",
    "df2.to_csv('/home/wangxuefei/Data_mining/data_matrix.csv', sep=',', header=True,index=False)\n"
   ]
  },
  {
   "cell_type": "markdown",
   "metadata": {},
   "source": [
    "#### 将数据预处理最后得到的0-1矩阵保存到data_matrix.csv中，打印前5行数据如下表所示："
   ]
  },
  {
   "cell_type": "code",
   "execution_count": 6,
   "metadata": {},
   "outputs": [
    {
     "data": {
      "text/html": [
       "<div>\n",
       "<style scoped>\n",
       "    .dataframe tbody tr th:only-of-type {\n",
       "        vertical-align: middle;\n",
       "    }\n",
       "\n",
       "    .dataframe tbody tr th {\n",
       "        vertical-align: top;\n",
       "    }\n",
       "\n",
       "    .dataframe thead th {\n",
       "        text-align: right;\n",
       "    }\n",
       "</style>\n",
       "<table border=\"1\" class=\"dataframe\">\n",
       "  <thead>\n",
       "    <tr style=\"text-align: right;\">\n",
       "      <th></th>\n",
       "      <th>video_id</th>\n",
       "      <th>publish_time</th>\n",
       "      <th>views</th>\n",
       "      <th>likes</th>\n",
       "      <th>dislikes</th>\n",
       "      <th>comment_count</th>\n",
       "      <th>comments_disabled</th>\n",
       "      <th>ratings_disabled</th>\n",
       "      <th>video_error_or_removed</th>\n",
       "      <th>category_id_1</th>\n",
       "      <th>category_id_2</th>\n",
       "      <th>category_id_3</th>\n",
       "    </tr>\n",
       "  </thead>\n",
       "  <tbody>\n",
       "    <tr>\n",
       "      <th>0</th>\n",
       "      <td>2kyS6SvSYSE</td>\n",
       "      <td>0</td>\n",
       "      <td>1</td>\n",
       "      <td>1</td>\n",
       "      <td>1</td>\n",
       "      <td>1</td>\n",
       "      <td>1</td>\n",
       "      <td>1</td>\n",
       "      <td>1</td>\n",
       "      <td>0</td>\n",
       "      <td>1</td>\n",
       "      <td>0</td>\n",
       "    </tr>\n",
       "    <tr>\n",
       "      <th>1</th>\n",
       "      <td>1ZAPwfrtAFY</td>\n",
       "      <td>0</td>\n",
       "      <td>1</td>\n",
       "      <td>1</td>\n",
       "      <td>1</td>\n",
       "      <td>1</td>\n",
       "      <td>1</td>\n",
       "      <td>1</td>\n",
       "      <td>1</td>\n",
       "      <td>0</td>\n",
       "      <td>1</td>\n",
       "      <td>0</td>\n",
       "    </tr>\n",
       "    <tr>\n",
       "      <th>2</th>\n",
       "      <td>5qpjK5DgCt4</td>\n",
       "      <td>0</td>\n",
       "      <td>1</td>\n",
       "      <td>1</td>\n",
       "      <td>1</td>\n",
       "      <td>1</td>\n",
       "      <td>1</td>\n",
       "      <td>1</td>\n",
       "      <td>1</td>\n",
       "      <td>0</td>\n",
       "      <td>1</td>\n",
       "      <td>0</td>\n",
       "    </tr>\n",
       "    <tr>\n",
       "      <th>3</th>\n",
       "      <td>puqaWrEC7tY</td>\n",
       "      <td>0</td>\n",
       "      <td>0</td>\n",
       "      <td>0</td>\n",
       "      <td>1</td>\n",
       "      <td>1</td>\n",
       "      <td>1</td>\n",
       "      <td>1</td>\n",
       "      <td>1</td>\n",
       "      <td>0</td>\n",
       "      <td>1</td>\n",
       "      <td>0</td>\n",
       "    </tr>\n",
       "    <tr>\n",
       "      <th>4</th>\n",
       "      <td>d380meD0W0M</td>\n",
       "      <td>0</td>\n",
       "      <td>1</td>\n",
       "      <td>1</td>\n",
       "      <td>1</td>\n",
       "      <td>1</td>\n",
       "      <td>1</td>\n",
       "      <td>1</td>\n",
       "      <td>1</td>\n",
       "      <td>0</td>\n",
       "      <td>1</td>\n",
       "      <td>0</td>\n",
       "    </tr>\n",
       "  </tbody>\n",
       "</table>\n",
       "</div>"
      ],
      "text/plain": [
       "      video_id  publish_time  views  likes  dislikes  comment_count  \\\n",
       "0  2kyS6SvSYSE             0      1      1         1              1   \n",
       "1  1ZAPwfrtAFY             0      1      1         1              1   \n",
       "2  5qpjK5DgCt4             0      1      1         1              1   \n",
       "3  puqaWrEC7tY             0      0      0         1              1   \n",
       "4  d380meD0W0M             0      1      1         1              1   \n",
       "\n",
       "   comments_disabled  ratings_disabled  video_error_or_removed  category_id_1  \\\n",
       "0                  1                 1                       1              0   \n",
       "1                  1                 1                       1              0   \n",
       "2                  1                 1                       1              0   \n",
       "3                  1                 1                       1              0   \n",
       "4                  1                 1                       1              0   \n",
       "\n",
       "   category_id_2  category_id_3  \n",
       "0              1              0  \n",
       "1              1              0  \n",
       "2              1              0  \n",
       "3              1              0  \n",
       "4              1              0  "
      ]
     },
     "execution_count": 6,
     "metadata": {},
     "output_type": "execute_result"
    }
   ],
   "source": [
    "pd.read_csv(\"/home/wangxuefei/Data_mining/data_matrix.csv\").head()"
   ]
  },
  {
   "cell_type": "markdown",
   "metadata": {},
   "source": [
    "## 二、找出频繁项集"
   ]
  },
  {
   "cell_type": "code",
   "execution_count": 7,
   "metadata": {},
   "outputs": [],
   "source": [
    "def preProcessing(data, vote_1_0):\n",
    "    '''\n",
    "    数据预处理\n",
    "    以按 1 或 0 寻找关联规则\n",
    "    '''\n",
    "    data_pre = []\n",
    "    for index, row in data.iterrows():\n",
    "        tmp_data = []\n",
    "        #print(row)\n",
    "        for i in range(1, len(row)):\n",
    "\n",
    "            if (row[i] == vote_1_0):\n",
    "                tmp_data.append(data.columns.values.tolist()[i])\n",
    "\n",
    "        if (tmp_data == []):\n",
    "            continue\n",
    "        data_pre.append(tmp_data)\n",
    "    return data_pre"
   ]
  },
  {
   "cell_type": "markdown",
   "metadata": {},
   "source": [
    "### 进行第一次挖掘，找到L_1项集"
   ]
  },
  {
   "cell_type": "code",
   "execution_count": 8,
   "metadata": {},
   "outputs": [],
   "source": [
    "def mining_first(data, suport, coincidence):\n",
    "    '''\n",
    "    进行第一次挖掘\n",
    "    挖掘候选1-项集\n",
    "    '''\n",
    "    dic = {}\n",
    "    count = len(data)\n",
    "    for data_line in data:\n",
    "        for data_item in data_line:\n",
    "            if (data_item in dic):\n",
    "                dic[data_item] += 1\n",
    "            else:\n",
    "                dic[data_item] = 1\n",
    "\n",
    "    assert (suport >= 0) and (suport <= 1), 'suport must be in 0-1'\n",
    "    val_suport = int(count * suport)\n",
    "    assert (coincidence >= 0) and (coincidence <= 1), 'coincidence must be in 0-1'\n",
    "    dic_1 = {}\n",
    "    for item in dic:\n",
    "        if (dic[item] >= val_suport):\n",
    "            dic_1[item] = dic[item]\n",
    "\n",
    "    return dic_1"
   ]
  },
  {
   "cell_type": "markdown",
   "metadata": {},
   "source": [
    "#### 设置支持度为0.3，置信度为0.8， 输出L_1项集"
   ]
  },
  {
   "cell_type": "code",
   "execution_count": 9,
   "metadata": {},
   "outputs": [
    {
     "name": "stdout",
     "output_type": "stream",
     "text": [
      "{'publish_time': 30521, 'views': 20475, 'dislikes': 20483, 'comments_disabled': 40316, 'ratings_disabled': 40780, 'comment_count': 20478, 'category_id_2': 22511, 'likes': 20475, 'video_error_or_removed': 40926}\n"
     ]
    }
   ],
   "source": [
    "data = pd.read_csv(\"/home/wangxuefei/Data_mining/data_matrix.csv\")\n",
    "# 支持度\n",
    "suport = 0.3\n",
    "# 置信度\n",
    "coincidence = 0.8\n",
    "data_1 = preProcessing(data, 1) #按照1寻找关联规则\n",
    "#data_0 = preProcessing(data, 0)#按照0寻找关联规则\n",
    "dic_1 = mining_first(data_1, suport, coincidence)\n",
    "print(dic_1)"
   ]
  },
  {
   "cell_type": "markdown",
   "metadata": {},
   "source": [
    "### 进行第二次挖掘，找到L_2项集"
   ]
  },
  {
   "cell_type": "code",
   "execution_count": 10,
   "metadata": {},
   "outputs": [],
   "source": [
    "def mining_second(data, dic_before, suport, coincidence):\n",
    "    '''\n",
    "    进行关联规则的二次挖掘\n",
    "    挖掘出候选2-项集\n",
    "    '''\n",
    "    dic = {}\n",
    "    count = len(data)\n",
    "    count2 = 0\n",
    "    for data_line in data:\n",
    "        # 获取元素数量\n",
    "        count_item = len(data_line)\n",
    "        # 每两个组合计数\n",
    "        for i in range(0, count_item - 1):\n",
    "            for j in range(i + 1, count_item):\n",
    "                if (data_line[i] in dic_before and data_line[j] in dic_before):\n",
    "                    count2 += 1\n",
    "                    tmp = (data_line[i], data_line[j])\n",
    "                    if (tmp in dic):\n",
    "                        dic[tmp] += 1\n",
    "                    else:\n",
    "                        dic[tmp] = 1\n",
    "                else:\n",
    "                    continue\n",
    "    # print(dic)\n",
    "    assert (suport >= 0) and (suport <= 1), 'suport must be in 0-1'\n",
    "    assert (coincidence >= 0) and (coincidence <= 1), 'coincidence must be in 0-1'\n",
    "\n",
    "    dic_2 = {}\n",
    "    for item in dic:\n",
    "        count_item0 = dic_before[item[0]]\n",
    "        count_item1 = dic_before[item[1]]\n",
    "        # 判断 支持度 和 置信度\n",
    "        if ((dic[item] >= suport * count) and (\n",
    "                (dic[item] >= coincidence * count_item0) or (dic[item] >= coincidence * count_item1))):\n",
    "            dic_2[item] = dic[item]\n",
    "\n",
    "    return dic_2"
   ]
  },
  {
   "cell_type": "markdown",
   "metadata": {},
   "source": [
    "#### 输出L_2项集"
   ]
  },
  {
   "cell_type": "code",
   "execution_count": 11,
   "metadata": {},
   "outputs": [
    {
     "name": "stdout",
     "output_type": "stream",
     "text": [
      "{('dislikes', 'ratings_disabled'): 20483, ('likes', 'video_error_or_removed'): 20461, ('comment_count', 'video_error_or_removed'): 20466, ('ratings_disabled', 'category_id_2'): 22426, ('ratings_disabled', 'video_error_or_removed'): 40757, ('publish_time', 'views'): 16938, ('likes', 'comments_disabled'): 20255, ('publish_time', 'dislikes'): 16629, ('comment_count', 'comments_disabled'): 20478, ('publish_time', 'ratings_disabled'): 30395, ('comments_disabled', 'ratings_disabled'): 40253, ('publish_time', 'video_error_or_removed'): 30501, ('comments_disabled', 'video_error_or_removed'): 40293, ('likes', 'dislikes'): 16452, ('comment_count', 'ratings_disabled'): 20467, ('views', 'likes'): 17218, ('publish_time', 'comments_disabled'): 30074, ('views', 'dislikes'): 17265, ('views', 'ratings_disabled'): 20402, ('publish_time', 'likes'): 16722, ('dislikes', 'video_error_or_removed'): 20471, ('views', 'video_error_or_removed'): 20463, ('dislikes', 'comment_count'): 17096, ('video_error_or_removed', 'category_id_2'): 22501, ('views', 'comments_disabled'): 20160, ('dislikes', 'comments_disabled'): 20210, ('publish_time', 'comment_count'): 16530, ('views', 'comment_count'): 16824, ('comments_disabled', 'category_id_2'): 22037, ('likes', 'comment_count'): 17435, ('likes', 'ratings_disabled'): 20475}\n"
     ]
    }
   ],
   "source": [
    "dic_2 = mining_second(data_1, dic_1, suport, coincidence)\n",
    "print(dic_2)"
   ]
  },
  {
   "cell_type": "markdown",
   "metadata": {},
   "source": [
    "### 进行第三次挖掘，找到L_3项集或者L_4项集乃至L_n项集"
   ]
  },
  {
   "cell_type": "code",
   "execution_count": 12,
   "metadata": {},
   "outputs": [],
   "source": [
    "def mining_third(data, dic_before, suport, coincidence):\n",
    "    '''\n",
    "    进行关联规则的三次挖掘\n",
    "    挖掘出候选3-项集或者4-项集乃至n-项集\n",
    "    '''\n",
    "    dic_3 = {}\n",
    "    for item0 in dic_before:\n",
    "        for item1 in dic_before:\n",
    "            if (item0 != item1):\n",
    "                # print(item0,item1)\n",
    "                item_len = len(item0)\n",
    "                equal = True\n",
    "                tmp_item3 = []\n",
    "                # 判断前n-1项是否一致\n",
    "                for i in range(item_len - 1):\n",
    "                    tmp_item3.append(item0[i])\n",
    "                    if (item0[i] != item1[i]):\n",
    "                        equal = False\n",
    "                        break\n",
    "                if (equal == True):\n",
    "                    minitem = min(item0[-1], item1[-1])\n",
    "                    maxitem = max(item0[-1], item1[-1])\n",
    "                    tmp_item3.append(minitem)\n",
    "                    tmp_item3.append(maxitem)\n",
    "                    tmp_item3 = tuple(tmp_item3)\n",
    "                    dic_3[tmp_item3] = 0\n",
    "                else:\n",
    "                    continue\n",
    "    # print('dic_3:',dic_3)\n",
    "    for data_line in data:\n",
    "        for item in dic_3:\n",
    "            is_in = True\n",
    "            for i in range(len(item)):\n",
    "                if (item[i] not in data_line):\n",
    "                    is_in = False\n",
    "\n",
    "            if (is_in == True):\n",
    "                dic_3[item] += 1\n",
    "\n",
    "    assert (suport >= 0) and (suport <= 1), 'suport must be in 0-1'\n",
    "    assert (coincidence >= 0) and (coincidence <= 1), 'coincidence must be in 0-1'\n",
    "\n",
    "    count = len(data)\n",
    "    dic_3n = {}\n",
    "    for item in dic_3:\n",
    "        count_item0 = dic_before[item[:-1]]\n",
    "        # 判断 支持度 和 置信度\n",
    "        if ((dic_3[item] >= suport * count) and (dic_3[item] >= coincidence * count_item0)):\n",
    "            dic_3n[item] = dic_3[item]\n",
    "\n",
    "    return dic_3n\n",
    "    pass"
   ]
  },
  {
   "cell_type": "markdown",
   "metadata": {},
   "source": [
    "#### 输出L_3项集或者L_4项集乃至L_n项集"
   ]
  },
  {
   "cell_type": "code",
   "execution_count": 13,
   "metadata": {},
   "outputs": [
    {
     "name": "stdout",
     "output_type": "stream",
     "text": [
      "[{('dislikes', 'ratings_disabled'): 20483, ('likes', 'video_error_or_removed'): 20461, ('comment_count', 'video_error_or_removed'): 20466, ('ratings_disabled', 'category_id_2'): 22426, ('ratings_disabled', 'video_error_or_removed'): 40757, ('publish_time', 'views'): 16938, ('likes', 'comments_disabled'): 20255, ('publish_time', 'dislikes'): 16629, ('comment_count', 'comments_disabled'): 20478, ('publish_time', 'ratings_disabled'): 30395, ('comments_disabled', 'ratings_disabled'): 40253, ('publish_time', 'video_error_or_removed'): 30501, ('comments_disabled', 'video_error_or_removed'): 40293, ('likes', 'dislikes'): 16452, ('comment_count', 'ratings_disabled'): 20467, ('views', 'likes'): 17218, ('publish_time', 'comments_disabled'): 30074, ('views', 'dislikes'): 17265, ('views', 'ratings_disabled'): 20402, ('publish_time', 'likes'): 16722, ('dislikes', 'video_error_or_removed'): 20471, ('views', 'video_error_or_removed'): 20463, ('dislikes', 'comment_count'): 17096, ('video_error_or_removed', 'category_id_2'): 22501, ('views', 'comments_disabled'): 20160, ('dislikes', 'comments_disabled'): 20210, ('publish_time', 'comment_count'): 16530, ('views', 'comment_count'): 16824, ('comments_disabled', 'category_id_2'): 22037, ('likes', 'comment_count'): 17435, ('likes', 'ratings_disabled'): 20475}, {('views', 'ratings_disabled', 'video_error_or_removed'): 20390, ('publish_time', 'dislikes', 'likes'): 13619, ('likes', 'dislikes', 'video_error_or_removed'): 16440, ('publish_time', 'comment_count', 'dislikes'): 13958, ('publish_time', 'comment_count', 'views'): 13892, ('likes', 'comments_disabled', 'dislikes'): 16257, ('dislikes', 'comment_count', 'ratings_disabled'): 17096, ('views', 'comment_count', 'comments_disabled'): 16824, ('views', 'comment_count', 'ratings_disabled'): 16818, ('views', 'dislikes', 'video_error_or_removed'): 17253, ('likes', 'comments_disabled', 'video_error_or_removed'): 20241, ('views', 'comment_count', 'video_error_or_removed'): 16815, ('publish_time', 'comments_disabled', 'video_error_or_removed'): 30054, ('likes', 'comment_count', 'dislikes'): 15172, ('comment_count', 'ratings_disabled', 'video_error_or_removed'): 20455, ('publish_time', 'ratings_disabled', 'video_error_or_removed'): 30375, ('views', 'dislikes', 'ratings_disabled'): 17265, ('views', 'comment_count', 'dislikes'): 15499, ('publish_time', 'dislikes', 'video_error_or_removed'): 16618, ('comments_disabled', 'ratings_disabled', 'video_error_or_removed'): 40230, ('publish_time', 'dislikes', 'views'): 14232, ('likes', 'comment_count', 'video_error_or_removed'): 17426, ('comments_disabled', 'category_id_2', 'ratings_disabled'): 22008, ('publish_time', 'comment_count', 'likes'): 14329, ('views', 'comments_disabled', 'likes'): 17016, ('comment_count', 'comments_disabled', 'ratings_disabled'): 20467, ('views', 'likes', 'ratings_disabled'): 17218, ('dislikes', 'comment_count', 'comments_disabled'): 17096, ('likes', 'comment_count', 'comments_disabled'): 17435, ('views', 'comments_disabled', 'ratings_disabled'): 20147, ('dislikes', 'comments_disabled', 'ratings_disabled'): 20210, ('likes', 'comment_count', 'ratings_disabled'): 17435, ('comments_disabled', 'category_id_2', 'video_error_or_removed'): 22027, ('likes', 'comments_disabled', 'ratings_disabled'): 20255, ('ratings_disabled', 'category_id_2', 'video_error_or_removed'): 22416, ('views', 'likes', 'video_error_or_removed'): 17206, ('publish_time', 'dislikes', 'ratings_disabled'): 16629, ('dislikes', 'ratings_disabled', 'video_error_or_removed'): 20471, ('views', 'comment_count', 'likes'): 15500, ('dislikes', 'comments_disabled', 'video_error_or_removed'): 20198, ('publish_time', 'likes', 'ratings_disabled'): 16722, ('views', 'dislikes', 'likes'): 15448, ('views', 'comments_disabled', 'dislikes'): 17038, ('publish_time', 'comment_count', 'ratings_disabled'): 16522, ('dislikes', 'comment_count', 'video_error_or_removed'): 17087, ('likes', 'ratings_disabled', 'video_error_or_removed'): 20461, ('publish_time', 'comment_count', 'comments_disabled'): 16530, ('likes', 'dislikes', 'ratings_disabled'): 16452, ('publish_time', 'likes', 'video_error_or_removed'): 16709, ('comment_count', 'comments_disabled', 'video_error_or_removed'): 20466, ('publish_time', 'comments_disabled', 'ratings_disabled'): 30031, ('publish_time', 'comment_count', 'video_error_or_removed'): 16519, ('views', 'comments_disabled', 'video_error_or_removed'): 20148, ('publish_time', 'likes', 'views'): 14333}, {('publish_time', 'comment_count', 'ratings_disabled', 'views'): 13886, ('likes', 'comment_count', 'comments_disabled', 'ratings_disabled'): 17435, ('publish_time', 'comment_count', 'comments_disabled', 'dislikes'): 13958, ('publish_time', 'comment_count', 'comments_disabled', 'likes'): 14329, ('publish_time', 'comment_count', 'comments_disabled', 'views'): 13892, ('views', 'comment_count', 'comments_disabled', 'dislikes'): 15499, ('views', 'comment_count', 'comments_disabled', 'likes'): 15500, ('views', 'comments_disabled', 'likes', 'video_error_or_removed'): 17004, ('dislikes', 'comment_count', 'comments_disabled', 'ratings_disabled'): 17096, ('comment_count', 'comments_disabled', 'ratings_disabled', 'video_error_or_removed'): 20455, ('likes', 'dislikes', 'ratings_disabled', 'video_error_or_removed'): 16440, ('views', 'comment_count', 'comments_disabled', 'ratings_disabled'): 16818, ('views', 'comments_disabled', 'likes', 'ratings_disabled'): 17016, ('publish_time', 'dislikes', 'video_error_or_removed', 'views'): 14221, ('publish_time', 'comment_count', 'likes', 'views'): 12911, ('likes', 'comment_count', 'dislikes', 'ratings_disabled'): 15172, ('publish_time', 'comment_count', 'dislikes', 'likes'): 12574, ('publish_time', 'comment_count', 'dislikes', 'views'): 12793, ('views', 'comment_count', 'dislikes', 'likes'): 14431, ('views', 'dislikes', 'likes', 'video_error_or_removed'): 15436, ('views', 'comments_disabled', 'dislikes', 'video_error_or_removed'): 17026, ('publish_time', 'comment_count', 'dislikes', 'ratings_disabled'): 13958, ('publish_time', 'dislikes', 'likes', 'ratings_disabled'): 13619, ('views', 'likes', 'ratings_disabled', 'video_error_or_removed'): 17206, ('views', 'comment_count', 'comments_disabled', 'video_error_or_removed'): 16815, ('publish_time', 'likes', 'ratings_disabled', 'views'): 14333, ('publish_time', 'comment_count', 'ratings_disabled', 'video_error_or_removed'): 16511, ('likes', 'comment_count', 'comments_disabled', 'dislikes'): 15172, ('views', 'comment_count', 'ratings_disabled', 'video_error_or_removed'): 16809, ('publish_time', 'comment_count', 'comments_disabled', 'video_error_or_removed'): 16519, ('publish_time', 'dislikes', 'likes', 'video_error_or_removed'): 13608, ('views', 'comments_disabled', 'dislikes', 'likes'): 15253, ('publish_time', 'comment_count', 'likes', 'video_error_or_removed'): 14321, ('comments_disabled', 'category_id_2', 'ratings_disabled', 'video_error_or_removed'): 21998, ('views', 'dislikes', 'ratings_disabled', 'video_error_or_removed'): 17253, ('publish_time', 'likes', 'ratings_disabled', 'video_error_or_removed'): 16709, ('likes', 'comments_disabled', 'dislikes', 'ratings_disabled'): 16257, ('publish_time', 'dislikes', 'ratings_disabled', 'video_error_or_removed'): 16618, ('views', 'comments_disabled', 'dislikes', 'ratings_disabled'): 17038, ('publish_time', 'comment_count', 'comments_disabled', 'ratings_disabled'): 16522, ('publish_time', 'comment_count', 'likes', 'ratings_disabled'): 14329, ('publish_time', 'comment_count', 'video_error_or_removed', 'views'): 13884, ('likes', 'comment_count', 'dislikes', 'video_error_or_removed'): 15163, ('views', 'comment_count', 'likes', 'video_error_or_removed'): 15491, ('likes', 'comments_disabled', 'dislikes', 'video_error_or_removed'): 16245, ('publish_time', 'likes', 'video_error_or_removed', 'views'): 14322, ('dislikes', 'comment_count', 'ratings_disabled', 'video_error_or_removed'): 17087, ('publish_time', 'comment_count', 'dislikes', 'video_error_or_removed'): 13950, ('views', 'comment_count', 'dislikes', 'video_error_or_removed'): 15490, ('views', 'comments_disabled', 'ratings_disabled', 'video_error_or_removed'): 20135, ('views', 'comment_count', 'likes', 'ratings_disabled'): 15500, ('publish_time', 'comments_disabled', 'ratings_disabled', 'video_error_or_removed'): 30011, ('dislikes', 'comments_disabled', 'ratings_disabled', 'video_error_or_removed'): 20198, ('dislikes', 'comment_count', 'comments_disabled', 'video_error_or_removed'): 17087, ('publish_time', 'dislikes', 'ratings_disabled', 'views'): 14232, ('likes', 'comment_count', 'ratings_disabled', 'video_error_or_removed'): 17426, ('likes', 'comments_disabled', 'ratings_disabled', 'video_error_or_removed'): 20241, ('views', 'comment_count', 'dislikes', 'ratings_disabled'): 15499, ('likes', 'comment_count', 'comments_disabled', 'video_error_or_removed'): 17426, ('publish_time', 'dislikes', 'likes', 'views'): 12839, ('views', 'dislikes', 'likes', 'ratings_disabled'): 15448}, {('publish_time', 'comment_count', 'likes', 'ratings_disabled', 'views'): 12911, ('publish_time', 'comment_count', 'comments_disabled', 'video_error_or_removed', 'views'): 13884, ('dislikes', 'comment_count', 'comments_disabled', 'ratings_disabled', 'video_error_or_removed'): 17087, ('views', 'comment_count', 'dislikes', 'likes', 'ratings_disabled'): 14431, ('publish_time', 'comment_count', 'likes', 'ratings_disabled', 'video_error_or_removed'): 14321, ('views', 'comment_count', 'comments_disabled', 'dislikes', 'video_error_or_removed'): 15490, ('likes', 'comment_count', 'comments_disabled', 'dislikes', 'ratings_disabled'): 15172, ('publish_time', 'comment_count', 'comments_disabled', 'dislikes', 'video_error_or_removed'): 13950, ('publish_time', 'comment_count', 'dislikes', 'video_error_or_removed', 'views'): 12785, ('views', 'comment_count', 'comments_disabled', 'dislikes', 'ratings_disabled'): 15499, ('likes', 'comment_count', 'dislikes', 'ratings_disabled', 'video_error_or_removed'): 15163, ('publish_time', 'comment_count', 'comments_disabled', 'dislikes', 'views'): 12793, ('publish_time', 'comment_count', 'comments_disabled', 'likes', 'views'): 12911, ('views', 'comment_count', 'comments_disabled', 'ratings_disabled', 'video_error_or_removed'): 16809, ('views', 'comments_disabled', 'dislikes', 'likes', 'ratings_disabled'): 15253, ('publish_time', 'comment_count', 'dislikes', 'likes', 'ratings_disabled'): 12574, ('views', 'dislikes', 'likes', 'ratings_disabled', 'video_error_or_removed'): 15436, ('publish_time', 'likes', 'ratings_disabled', 'video_error_or_removed', 'views'): 14322, ('publish_time', 'dislikes', 'likes', 'ratings_disabled', 'video_error_or_removed'): 13608, ('views', 'comment_count', 'likes', 'ratings_disabled', 'video_error_or_removed'): 15491, ('views', 'comments_disabled', 'dislikes', 'likes', 'video_error_or_removed'): 15241, ('publish_time', 'comment_count', 'comments_disabled', 'likes', 'video_error_or_removed'): 14321, ('publish_time', 'dislikes', 'likes', 'ratings_disabled', 'views'): 12839, ('likes', 'comment_count', 'comments_disabled', 'ratings_disabled', 'video_error_or_removed'): 17426, ('views', 'comments_disabled', 'dislikes', 'ratings_disabled', 'video_error_or_removed'): 17026, ('views', 'comment_count', 'comments_disabled', 'dislikes', 'likes'): 14431, ('views', 'comment_count', 'dislikes', 'ratings_disabled', 'video_error_or_removed'): 15490, ('publish_time', 'comment_count', 'comments_disabled', 'dislikes', 'ratings_disabled'): 13958, ('publish_time', 'comment_count', 'dislikes', 'ratings_disabled', 'views'): 12793, ('publish_time', 'comment_count', 'comments_disabled', 'likes', 'ratings_disabled'): 14329, ('publish_time', 'dislikes', 'likes', 'video_error_or_removed', 'views'): 12828, ('publish_time', 'comment_count', 'ratings_disabled', 'video_error_or_removed', 'views'): 13878, ('views', 'comment_count', 'dislikes', 'likes', 'video_error_or_removed'): 14422, ('publish_time', 'comment_count', 'dislikes', 'ratings_disabled', 'video_error_or_removed'): 13950, ('publish_time', 'comment_count', 'dislikes', 'likes', 'video_error_or_removed'): 12566, ('views', 'comments_disabled', 'likes', 'ratings_disabled', 'video_error_or_removed'): 17004, ('views', 'comment_count', 'comments_disabled', 'likes', 'ratings_disabled'): 15500, ('publish_time', 'comment_count', 'comments_disabled', 'dislikes', 'likes'): 12574, ('likes', 'comment_count', 'comments_disabled', 'dislikes', 'video_error_or_removed'): 15163, ('publish_time', 'dislikes', 'ratings_disabled', 'video_error_or_removed', 'views'): 14221, ('publish_time', 'comment_count', 'likes', 'video_error_or_removed', 'views'): 12903, ('publish_time', 'comment_count', 'comments_disabled', 'ratings_disabled', 'views'): 13886, ('likes', 'comments_disabled', 'dislikes', 'ratings_disabled', 'video_error_or_removed'): 16245, ('views', 'comment_count', 'comments_disabled', 'likes', 'video_error_or_removed'): 15491, ('publish_time', 'comment_count', 'comments_disabled', 'ratings_disabled', 'video_error_or_removed'): 16511}, {('publish_time', 'dislikes', 'likes', 'ratings_disabled', 'video_error_or_removed', 'views'): 12828, ('views', 'comments_disabled', 'dislikes', 'likes', 'ratings_disabled', 'video_error_or_removed'): 15241, ('publish_time', 'comment_count', 'dislikes', 'likes', 'ratings_disabled', 'video_error_or_removed'): 12566, ('publish_time', 'comment_count', 'comments_disabled', 'likes', 'ratings_disabled', 'views'): 12911, ('views', 'comment_count', 'dislikes', 'likes', 'ratings_disabled', 'video_error_or_removed'): 14422, ('views', 'comment_count', 'comments_disabled', 'dislikes', 'likes', 'video_error_or_removed'): 14422, ('views', 'comment_count', 'comments_disabled', 'likes', 'ratings_disabled', 'video_error_or_removed'): 15491, ('publish_time', 'comment_count', 'comments_disabled', 'dislikes', 'likes', 'video_error_or_removed'): 12566, ('publish_time', 'comment_count', 'dislikes', 'ratings_disabled', 'video_error_or_removed', 'views'): 12785, ('publish_time', 'comment_count', 'comments_disabled', 'dislikes', 'video_error_or_removed', 'views'): 12785, ('publish_time', 'comment_count', 'comments_disabled', 'ratings_disabled', 'video_error_or_removed', 'views'): 13878, ('views', 'comment_count', 'comments_disabled', 'dislikes', 'ratings_disabled', 'video_error_or_removed'): 15490, ('publish_time', 'comment_count', 'comments_disabled', 'dislikes', 'ratings_disabled', 'video_error_or_removed'): 13950, ('publish_time', 'comment_count', 'comments_disabled', 'likes', 'video_error_or_removed', 'views'): 12903, ('likes', 'comment_count', 'comments_disabled', 'dislikes', 'ratings_disabled', 'video_error_or_removed'): 15163, ('views', 'comment_count', 'comments_disabled', 'dislikes', 'likes', 'ratings_disabled'): 14431, ('publish_time', 'comment_count', 'likes', 'ratings_disabled', 'video_error_or_removed', 'views'): 12903, ('publish_time', 'comment_count', 'comments_disabled', 'likes', 'ratings_disabled', 'video_error_or_removed'): 14321, ('publish_time', 'comment_count', 'comments_disabled', 'dislikes', 'likes', 'ratings_disabled'): 12574, ('publish_time', 'comment_count', 'comments_disabled', 'dislikes', 'ratings_disabled', 'views'): 12793}, {('publish_time', 'comment_count', 'comments_disabled', 'likes', 'ratings_disabled', 'video_error_or_removed', 'views'): 12903, ('views', 'comment_count', 'comments_disabled', 'dislikes', 'likes', 'ratings_disabled', 'video_error_or_removed'): 14422, ('publish_time', 'comment_count', 'comments_disabled', 'dislikes', 'ratings_disabled', 'video_error_or_removed', 'views'): 12785, ('publish_time', 'comment_count', 'comments_disabled', 'dislikes', 'likes', 'ratings_disabled', 'video_error_or_removed'): 12566}]\n"
     ]
    }
   ],
   "source": [
    "dic_before = dic_2\n",
    "dic_r = []\n",
    "while (dic_before != {}):\n",
    "    dic_r.append(dic_before)\n",
    "    dic_3 = mining_third(data_1, dic_before, suport, coincidence)\n",
    "    dic_before = dic_3\n",
    "print(dic_r)"
   ]
  },
  {
   "cell_type": "markdown",
   "metadata": {},
   "source": [
    "## 三、导出关联规则，计算其支持度和置信度并用lift和cosine对规则进行评价"
   ]
  },
  {
   "cell_type": "code",
   "execution_count": 14,
   "metadata": {},
   "outputs": [],
   "source": [
    "data = pd.read_csv(\"/home/wangxuefei/Data_mining/data_matrix_2.csv\")"
   ]
  },
  {
   "cell_type": "code",
   "execution_count": 15,
   "metadata": {},
   "outputs": [],
   "source": [
    "#-*- coding:utf-8 -*-\n",
    "import pandas as pd\n",
    "import numpy as np\n",
    "import math\n",
    "\n",
    "\n",
    "\n",
    "#自定义连接函数，用于实现L_{k-1}到C_k的连接\n",
    "def connect_string(x, ms):\n",
    "    x = list(map(lambda i:sorted(i.split(ms)), x))\n",
    "    l = len(x[0])\n",
    "    r = []\n",
    "    for i in range(len(x)):\n",
    "        for j in range(i,len(x)):\n",
    "            if x[i][:l-1] == x[j][:l-1] and x[i][l-1] != x[j][l-1]:\n",
    "                r.append(x[i][:l-1]+sorted([x[j][l-1],x[i][l-1]]))\n",
    "    return r\n",
    "\n",
    "\n",
    "# 寻找关联规则的函数\n",
    "def find_rule(d, support, confidence,ms= u'-->'):\n",
    "    import time\n",
    "    start = time.clock()\n",
    "    result = pd.DataFrame(index=['support', 'confidence','lift','cosine'])  # 定义输出结果\n",
    "    col_name= d.columns.values.tolist()\n",
    "    support_series = pd.Series(map(lambda x: x/len(d), 1.0*d.sum()),index=col_name)  # 支持度序列\n",
    "    #print(support_series)\n",
    "    column = list(support_series[support_series > support].index)  # 初步根据支持度筛选\n",
    "    #print(column)\n",
    "    k = 0\n",
    "    while len(column) > 1:\n",
    "        k = k + 1\n",
    "        print(u'\\n正在寻找候选%s项集...' % (k+1))\n",
    "        column = connect_string(column, ms)\n",
    "        print(u'数目：%s...' % len(column))\n",
    "        sf = lambda i: d[i].prod(axis=1, numeric_only=True)  # 新一批支持度的计算函数\n",
    "\n",
    "        # 创建连接数据，这一步耗时、耗内存最严重。当数据集较大时，可以考虑并行运算优化。\n",
    "        d_2 = pd.DataFrame(list(map(sf, column)), index=[ms.join(i) for i in column]).T\n",
    "        col_name_2=d_2.columns.values.tolist()\n",
    "\n",
    "        support_series_2 = pd.Series(map(lambda x: x / len(d),1.0 * d_2[[ms.join(i) for i in column]].sum()),index=col_name_2)  # 计算连接后的支持度\n",
    "        #print(support_series_2)\n",
    "        column = list(support_series_2[support_series_2 > support].index)  # 新一轮支持度筛选\n",
    "        #print(column)\n",
    "        support_series = support_series.append(support_series_2)\n",
    "        #print(support_series)\n",
    "        column2 = []\n",
    "\n",
    "        for i in column:  # 遍历可能的推理，如{A,B,C}究竟是A+B-->C还是B+C-->A还是C+A-->B？\n",
    "            i = i.split(ms)\n",
    "            for j in range(len(i)):\n",
    "                column2.append(i[:j] + i[j + 1:] + i[j:j + 1])\n",
    "        #print(column2)\n",
    "\n",
    "        cofidence_series = pd.Series(index=[ms.join(i) for i in column2])  # 定义置信度序列\n",
    "        lift_series = pd.Series(index=[ms.join(i) for i in column2])\n",
    "        cosine_series = pd.Series(index=[ms.join(i) for i in column2])\n",
    "        #print(cofidence_series)\n",
    "\n",
    "        for i in column2:  # 计算置信度序列\n",
    "            #print(i)\n",
    "            cofidence_series[ms.join(i)] = support_series[ms.join(sorted(i))] / support_series[ms.join(i[:len(i) - 1])]\n",
    "            lift_series[ms.join(i)] = cofidence_series[ms.join(i)] / support_series[i[-1]]\n",
    "            cosine_series[ms.join(i)] = support_series[ms.join(sorted(i))] / math.sqrt(support_series[ms.join(i[:len(i) - 1])]*support_series[i[-1]])\n",
    "            \n",
    "\n",
    "\n",
    "        for i in cofidence_series[cofidence_series > confidence].index:  # 置信度筛选\n",
    "            result[i] = 0.0\n",
    "            result[i]['confidence'] = cofidence_series[i]\n",
    "            result[i]['support'] = support_series[ms.join(sorted(i.split(ms)))]\n",
    "            result[i]['lift'] = lift_series[i]\n",
    "            result[i]['cosine'] = cosine_series[i]\n",
    "\n",
    "    result = result.T.sort_values(['confidence', 'support','lift','cosine'], ascending=False)  # 结果整理，输出\n",
    "    end = time.clock()\n",
    "    print(u'\\n搜索完成，用时：%0.2f秒' % (end - start))\n",
    "    print(u'\\n结果为：')\n",
    "    print(result)\n",
    "    return result\n",
    "\n"
   ]
  },
  {
   "cell_type": "markdown",
   "metadata": {},
   "source": [
    "### 设置最小支持度为0.3,最小置信度为0.8,输出结果有 support、confidence、lift、cosine（由于数据过多，下面显示结果换了行，往下拉才能看到 lift和 cosine）"
   ]
  },
  {
   "cell_type": "code",
   "execution_count": 16,
   "metadata": {},
   "outputs": [
    {
     "name": "stdout",
     "output_type": "stream",
     "text": [
      "\n",
      "正在寻找候选2项集...\n",
      "数目：36...\n",
      "\n",
      "正在寻找候选3项集...\n",
      "数目：62...\n",
      "\n",
      "正在寻找候选4项集...\n",
      "数目：74...\n",
      "\n",
      "正在寻找候选5项集...\n",
      "数目：57...\n",
      "\n",
      "正在寻找候选6项集...\n",
      "数目：26...\n",
      "\n",
      "正在寻找候选7项集...\n",
      "数目：5...\n",
      "\n",
      "正在寻找候选8项集...\n",
      "数目：0...\n",
      "\n",
      "搜索完成，用时：14.31秒\n",
      "\n",
      "结果为：\n",
      "                                                     support  confidence  \\\n",
      "dislikes-->ratings_disabled                         0.500208    1.000000   \n",
      "comment_count-->comments_disabled                   0.500085    1.000000   \n",
      "likes-->ratings_disabled                            0.500012    1.000000   \n",
      "dislikes-->video_error_or_removed-->ratings_dis...  0.499915    1.000000   \n",
      "comment_count-->ratings_disabled-->comments_dis...  0.499817    1.000000   \n",
      "comment_count-->video_error_or_removed-->commen...  0.499792    1.000000   \n",
      "likes-->video_error_or_removed-->ratings_disabled   0.499670    1.000000   \n",
      "comment_count-->ratings_disabled-->video_error_...  0.499524    1.000000   \n",
      "comments_disabled-->likes-->ratings_disabled        0.494640    1.000000   \n",
      "comments_disabled-->likes-->video_error_or_remo...  0.494298    1.000000   \n",
      "comments_disabled-->dislikes-->ratings_disabled     0.493541    1.000000   \n",
      "comments_disabled-->dislikes-->video_error_or_r...  0.493248    1.000000   \n",
      "comment_count-->likes-->comments_disabled           0.425774    1.000000   \n",
      "comment_count-->likes-->ratings_disabled-->comm...  0.425774    1.000000   \n",
      "comment_count-->likes-->ratings_disabled            0.425774    1.000000   \n",
      "comment_count-->comments_disabled-->likes-->rat...  0.425774    1.000000   \n",
      "comment_count-->likes-->video_error_or_removed-...  0.425554    1.000000   \n",
      "comment_count-->likes-->ratings_disabled-->vide...  0.425554    1.000000   \n",
      "comment_count-->likes-->video_error_or_removed-...  0.425554    1.000000   \n",
      "comment_count-->comments_disabled-->likes-->vid...  0.425554    1.000000   \n",
      "dislikes-->views-->ratings_disabled                 0.421622    1.000000   \n",
      "dislikes-->video_error_or_removed-->views-->rat...  0.421329    1.000000   \n",
      "likes-->views-->ratings_disabled                    0.420474    1.000000   \n",
      "likes-->video_error_or_removed-->views-->rating...  0.420181    1.000000   \n",
      "comment_count-->dislikes-->comments_disabled        0.417495    1.000000   \n",
      "comment_count-->dislikes-->ratings_disabled-->c...  0.417495    1.000000   \n",
      "comment_count-->dislikes-->ratings_disabled         0.417495    1.000000   \n",
      "comment_count-->comments_disabled-->dislikes-->...  0.417495    1.000000   \n",
      "comment_count-->dislikes-->video_error_or_remov...  0.417275    1.000000   \n",
      "comment_count-->dislikes-->ratings_disabled-->v...  0.417275    1.000000   \n",
      "...                                                      ...         ...   \n",
      "comments_disabled-->dislikes-->video_error_or_r...  0.400718    0.812407   \n",
      "comments_disabled-->dislikes-->ratings_disabled...  0.400718    0.812407   \n",
      "dislikes-->publish_time                             0.406091    0.811844   \n",
      "dislikes-->ratings_disabled-->publish_time          0.406091    0.811844   \n",
      "dislikes-->video_error_or_removed-->publish_time    0.405822    0.811783   \n",
      "dislikes-->ratings_disabled-->video_error_or_re...  0.405822    0.811783   \n",
      "comment_count-->ratings_disabled-->publish_time     0.403477    0.807251   \n",
      "comment_count-->comments_disabled-->ratings_dis...  0.403477    0.807251   \n",
      "comment_count-->publish_time                        0.403673    0.807208   \n",
      "comment_count-->comments_disabled-->publish_time    0.403673    0.807208   \n",
      "comment_count-->ratings_disabled-->video_error_...  0.403209    0.807187   \n",
      "comment_count-->comments_disabled-->ratings_dis...  0.403209    0.807187   \n",
      "comment_count-->video_error_or_removed-->publis...  0.403404    0.807144   \n",
      "comment_count-->comments_disabled-->video_error...  0.403404    0.807144   \n",
      "comments_disabled-->dislikes-->likes                0.397006    0.804404   \n",
      "comments_disabled-->dislikes-->ratings_disabled...  0.397006    0.804404   \n",
      "comments_disabled-->dislikes-->video_error_or_r...  0.396713    0.804288   \n",
      "comments_disabled-->dislikes-->ratings_disabled...  0.396713    0.804288   \n",
      "likes-->dislikes                                    0.401768    0.803516   \n",
      "likes-->ratings_disabled-->dislikes                 0.401768    0.803516   \n",
      "likes-->video_error_or_removed-->dislikes           0.401475    0.803480   \n",
      "likes-->ratings_disabled-->video_error_or_remov...  0.401475    0.803480   \n",
      "dislikes-->likes                                    0.401768    0.803203   \n",
      "dislikes-->ratings_disabled-->likes                 0.401768    0.803203   \n",
      "dislikes-->video_error_or_removed-->likes           0.401475    0.803087   \n",
      "dislikes-->ratings_disabled-->video_error_or_re...  0.401475    0.803087   \n",
      "comments_disabled-->likes-->dislikes                0.397006    0.802617   \n",
      "comments_disabled-->likes-->ratings_disabled-->...  0.397006    0.802617   \n",
      "comments_disabled-->likes-->video_error_or_remo...  0.396713    0.802579   \n",
      "comments_disabled-->likes-->ratings_disabled-->...  0.396713    0.802579   \n",
      "\n",
      "                                                        lift    cosine  \n",
      "dislikes-->ratings_disabled                         1.004144  0.708718  \n",
      "comment_count-->comments_disabled                   1.015701  0.712697  \n",
      "likes-->ratings_disabled                            1.004144  0.708579  \n",
      "dislikes-->video_error_or_removed-->ratings_dis...  1.004144  0.708510  \n",
      "comment_count-->ratings_disabled-->comments_dis...  1.015701  0.712506  \n",
      "comment_count-->video_error_or_removed-->commen...  1.015701  0.712488  \n",
      "likes-->video_error_or_removed-->ratings_disabled   1.004144  0.708337  \n",
      "comment_count-->ratings_disabled-->video_error_...  1.015701  0.712297  \n",
      "comments_disabled-->likes-->ratings_disabled        1.004144  0.704762  \n",
      "comments_disabled-->likes-->video_error_or_remo...  1.004144  0.704518  \n",
      "comments_disabled-->dislikes-->ratings_disabled     1.004144  0.703979  \n",
      "comments_disabled-->dislikes-->video_error_or_r...  1.004144  0.703770  \n",
      "comment_count-->likes-->comments_disabled           1.015701  0.657616  \n",
      "comment_count-->likes-->ratings_disabled-->comm...  1.015701  0.657616  \n",
      "comment_count-->likes-->ratings_disabled            1.004144  0.653864  \n",
      "comment_count-->comments_disabled-->likes-->rat...  1.004144  0.653864  \n",
      "comment_count-->likes-->video_error_or_removed-...  1.015701  0.657446  \n",
      "comment_count-->likes-->ratings_disabled-->vide...  1.015701  0.657446  \n",
      "comment_count-->likes-->video_error_or_removed-...  1.004144  0.653695  \n",
      "comment_count-->comments_disabled-->likes-->vid...  1.004144  0.653695  \n",
      "dislikes-->views-->ratings_disabled                 1.004144  0.650668  \n",
      "dislikes-->video_error_or_removed-->views-->rat...  1.004144  0.650442  \n",
      "likes-->views-->ratings_disabled                    1.004144  0.649782  \n",
      "likes-->video_error_or_removed-->views-->rating...  1.004144  0.649556  \n",
      "comment_count-->dislikes-->comments_disabled        1.015701  0.651191  \n",
      "comment_count-->dislikes-->ratings_disabled-->c...  1.015701  0.651191  \n",
      "comment_count-->dislikes-->ratings_disabled         1.004144  0.647476  \n",
      "comment_count-->comments_disabled-->dislikes-->...  1.004144  0.647476  \n",
      "comment_count-->dislikes-->video_error_or_remov...  1.015701  0.651020  \n",
      "comment_count-->dislikes-->ratings_disabled-->v...  1.015701  0.651020  \n",
      "...                                                      ...       ...  \n",
      "comments_disabled-->dislikes-->video_error_or_r...  1.089979  0.660889  \n",
      "comments_disabled-->dislikes-->ratings_disabled...  1.089979  0.660889  \n",
      "dislikes-->publish_time                             1.089224  0.665074  \n",
      "dislikes-->ratings_disabled-->publish_time          1.089224  0.665074  \n",
      "dislikes-->video_error_or_removed-->publish_time    1.089141  0.664829  \n",
      "dislikes-->ratings_disabled-->video_error_or_re...  1.089141  0.664829  \n",
      "comment_count-->ratings_disabled-->publish_time     1.083061  0.661053  \n",
      "comment_count-->comments_disabled-->ratings_dis...  1.083061  0.661053  \n",
      "comment_count-->publish_time                        1.083003  0.661195  \n",
      "comment_count-->comments_disabled-->publish_time    1.083003  0.661195  \n",
      "comment_count-->ratings_disabled-->video_error_...  1.082975  0.660806  \n",
      "comment_count-->comments_disabled-->ratings_dis...  1.082975  0.660806  \n",
      "comment_count-->video_error_or_removed-->publis...  1.082917  0.660949  \n",
      "comment_count-->comments_disabled-->video_error...  1.082917  0.660949  \n",
      "comments_disabled-->dislikes-->likes                1.608768  0.799181  \n",
      "comments_disabled-->dislikes-->ratings_disabled...  1.608768  0.799181  \n",
      "comments_disabled-->dislikes-->video_error_or_r...  1.608536  0.798829  \n",
      "comments_disabled-->dislikes-->ratings_disabled...  1.608536  0.798829  \n",
      "likes-->dislikes                                    1.606366  0.803360  \n",
      "likes-->ratings_disabled-->dislikes                 1.606366  0.803360  \n",
      "likes-->video_error_or_removed-->dislikes           1.606293  0.803048  \n",
      "likes-->ratings_disabled-->video_error_or_remov...  1.606293  0.803048  \n",
      "dislikes-->likes                                    1.606366  0.803360  \n",
      "dislikes-->ratings_disabled-->likes                 1.606366  0.803360  \n",
      "dislikes-->video_error_or_removed-->likes           1.606135  0.803009  \n",
      "dislikes-->ratings_disabled-->video_error_or_re...  1.606135  0.803009  \n",
      "comments_disabled-->likes-->dislikes                1.604567  0.798137  \n",
      "comments_disabled-->likes-->ratings_disabled-->...  1.604567  0.798137  \n",
      "comments_disabled-->likes-->video_error_or_remo...  1.604492  0.797824  \n",
      "comments_disabled-->likes-->ratings_disabled-->...  1.604492  0.797824  \n",
      "\n",
      "[921 rows x 4 columns]\n"
     ]
    }
   ],
   "source": [
    "# 设定最小支持度\n",
    "support = 0.3\n",
    "# 设定最小置信度\n",
    "confidence = 0.8\n",
    "# 连接符，默认 -- ,需要保证原始表格中不含有该字符\n",
    "ms = '-->'\n",
    "find_rule(data,support,confidence,ms).to_csv('/home/wangxuefei/Data_mining/result_1.csv')"
   ]
  },
  {
   "cell_type": "markdown",
   "metadata": {},
   "source": [
    "### 由于规则过多，并且通过lift 和cosine进行评价后发现，不是每个规则都是有趣的，因此，根据lift 和cosine两个指标对规则进行了过滤，去除冗余、无用的规则"
   ]
  },
  {
   "cell_type": "markdown",
   "metadata": {},
   "source": [
    "#### 过滤后，得到了以下12 条规则，规则解释：comments_disabled-->dislikes-->publish_time-->views-->likes 表示 comments_disabled + dislikes + publish_time + views    -->    likes, 下面每条规则依此类推"
   ]
  },
  {
   "cell_type": "code",
   "execution_count": 17,
   "metadata": {},
   "outputs": [
    {
     "name": "stdout",
     "output_type": "stream",
     "text": [
      "Index([u'comments_disabled-->dislikes-->publish_time-->views-->likes',\n",
      "       u'comments_disabled-->dislikes-->publish_time-->ratings_disabled-->views-->likes',\n",
      "       u'comments_disabled-->dislikes-->publish_time-->video_error_or_removed-->views-->likes',\n",
      "       u'comments_disabled-->dislikes-->publish_time-->ratings_disabled-->video_error_or_removed-->views-->likes',\n",
      "       u'comment_count-->dislikes-->publish_time-->likes',\n",
      "       u'comment_count-->dislikes-->publish_time-->ratings_disabled-->likes',\n",
      "       u'comment_count-->comments_disabled-->dislikes-->publish_time-->likes',\n",
      "       u'comment_count-->comments_disabled-->dislikes-->publish_time-->ratings_disabled-->likes',\n",
      "       u'comment_count-->dislikes-->publish_time-->video_error_or_removed-->likes',\n",
      "       u'comment_count-->dislikes-->publish_time-->ratings_disabled-->video_error_or_removed-->likes',\n",
      "       u'comment_count-->comments_disabled-->dislikes-->publish_time-->video_error_or_removed-->likes',\n",
      "       u'comment_count-->comments_disabled-->dislikes-->publish_time-->ratings_disabled-->video_error_or_removed-->likes'],\n",
      "      dtype='object')\n"
     ]
    }
   ],
   "source": [
    "result = pd.read_csv(\"/home/wangxuefei/Data_mining/result_1.csv\",index_col=0)\n",
    "result_filter=pd.DataFrame(result[(result.lift > 1.8) & (result.cosine < 0.75)])\n",
    "result_filter.to_csv('/home/wangxuefei/Data_mining/result_2.csv')\n",
    "print(result_filter.index)"
   ]
  },
  {
   "cell_type": "markdown",
   "metadata": {},
   "source": [
    "### 四、 对挖掘结果进行可视化展示"
   ]
  },
  {
   "cell_type": "code",
   "execution_count": 18,
   "metadata": {},
   "outputs": [],
   "source": [
    "import matplotlib.pyplot as plt\n",
    "%matplotlib inline"
   ]
  },
  {
   "cell_type": "markdown",
   "metadata": {},
   "source": [
    "### 下面通过散点图来对得到的规则进行分析，因为要分析总体趋势，所以选用了过滤之前的关联规则文件（规则较多，便于观察分布）"
   ]
  },
  {
   "cell_type": "markdown",
   "metadata": {},
   "source": [
    "#### （1）观察 “support”与“lift”之间的分布关系，发现 lift 较高的规则分布在 support 较低的位置"
   ]
  },
  {
   "cell_type": "code",
   "execution_count": 19,
   "metadata": {},
   "outputs": [
    {
     "data": {
      "image/png": "[encoded data removed]",
      "text/plain": [
       "<Figure size 432x288 with 1 Axes>"
      ]
     },
     "metadata": {
      "needs_background": "light"
     },
     "output_type": "display_data"
    }
   ],
   "source": [
    "rules = pd.read_csv(\"/home/wangxuefei/Data_mining/result_1.csv\",index_col=0)\n",
    "#print(rules)\n",
    "#rules['lift'].plot.hist(grid=False,bins=20,title='price')\n",
    "rules.plot.scatter(x='support', y='lift')\n",
    "plt.show()"
   ]
  },
  {
   "cell_type": "markdown",
   "metadata": {},
   "source": [
    "#### （2）观察 “confidence”与“lift”之间的分布关系，发现 总体趋势是 lift 与 confidence 正相关，即随着confidence的增大，lift也在增大"
   ]
  },
  {
   "cell_type": "code",
   "execution_count": 20,
   "metadata": {},
   "outputs": [
    {
     "data": {
      "image/png": "[encoded data removed]",
      "text/plain": [
       "<Figure size 432x288 with 1 Axes>"
      ]
     },
     "metadata": {
      "needs_background": "light"
     },
     "output_type": "display_data"
    }
   ],
   "source": [
    "rules.plot.scatter(x='confidence', y='lift')\n",
    "plt.show()"
   ]
  },
  {
   "cell_type": "markdown",
   "metadata": {},
   "source": [
    "####  （3）观察 “support”与“cosine”之间的分布关系，总体也有正相关的趋势"
   ]
  },
  {
   "cell_type": "code",
   "execution_count": 21,
   "metadata": {},
   "outputs": [
    {
     "data": {
      "image/png": "[encoded data removed]",
      "text/plain": [
       "<Figure size 432x288 with 1 Axes>"
      ]
     },
     "metadata": {
      "needs_background": "light"
     },
     "output_type": "display_data"
    }
   ],
   "source": [
    "rules.plot.scatter(x='support', y='cosine')\n",
    "plt.show()"
   ]
  },
  {
   "cell_type": "markdown",
   "metadata": {},
   "source": [
    "#### （4）观察 “confidence”与“cosine”之间的分布关系，总体趋势较为离散，也没有明显的线性关系"
   ]
  },
  {
   "cell_type": "code",
   "execution_count": 22,
   "metadata": {},
   "outputs": [
    {
     "data": {
      "image/png": "[encoded data removed]",
      "text/plain": [
       "<Figure size 432x288 with 1 Axes>"
      ]
     },
     "metadata": {
      "needs_background": "light"
     },
     "output_type": "display_data"
    }
   ],
   "source": [
    "rules.plot.scatter(x='confidence', y='cosine')\n",
    "plt.show()"
   ]
  },
  {
   "cell_type": "code",
   "execution_count": null,
   "metadata": {},
   "outputs": [],
   "source": []
  }
 ],
 "metadata": {
  "kernelspec": {
   "display_name": "Python 2",
   "language": "python",
   "name": "python2"
  },
  "language_info": {
   "codemirror_mode": {
    "name": "ipython",
    "version": 2
   },
   "file_extension": ".py",
   "mimetype": "text/x-python",
   "name": "python",
   "nbconvert_exporter": "python",
   "pygments_lexer": "ipython2",
   "version": "2.7.12"
  }
 },
 "nbformat": 4,
 "nbformat_minor": 2
}
