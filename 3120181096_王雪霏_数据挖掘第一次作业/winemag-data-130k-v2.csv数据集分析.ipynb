{
 "cells": [
  {
   "cell_type": "markdown",
   "metadata": {},
   "source": [
    "# winemag-data-130k-v2数据集分析"
   ]
  },
  {
   "cell_type": "markdown",
   "metadata": {},
   "source": [
    "### 导入相关函数库"
   ]
  },
  {
   "cell_type": "code",
   "execution_count": 1,
   "metadata": {},
   "outputs": [],
   "source": [
    "import numpy as np\n",
    "import pandas as pd\n",
    "wine_data = pd.read_csv(\"/home/wangxuefei/Downloads/Dataset/wine-reviews/winemag-data-130k-v2.csv\", index_col=0)"
   ]
  },
  {
   "cell_type": "markdown",
   "metadata": {},
   "source": [
    "## 一、统计标称属性信息"
   ]
  },
  {
   "cell_type": "markdown",
   "metadata": {},
   "source": [
    "### 下面分别统计了每个标称属性的每个可能取值的频数"
   ]
  },
  {
   "cell_type": "code",
   "execution_count": 2,
   "metadata": {},
   "outputs": [
    {
     "data": {
      "text/plain": [
       "US                        54504\n",
       "France                    22093\n",
       "Italy                     19540\n",
       "Spain                      6645\n",
       "Portugal                   5691\n",
       "Chile                      4472\n",
       "Argentina                  3800\n",
       "Austria                    3345\n",
       "Australia                  2329\n",
       "Germany                    2165\n",
       "New Zealand                1419\n",
       "South Africa               1401\n",
       "Israel                      505\n",
       "Greece                      466\n",
       "Canada                      257\n",
       "Hungary                     146\n",
       "Bulgaria                    141\n",
       "Romania                     120\n",
       "Uruguay                     109\n",
       "Turkey                       90\n",
       "Slovenia                     87\n",
       "Georgia                      86\n",
       "England                      74\n",
       "Croatia                      73\n",
       "Mexico                       70\n",
       "Moldova                      59\n",
       "Brazil                       52\n",
       "Lebanon                      35\n",
       "Morocco                      28\n",
       "Peru                         16\n",
       "Ukraine                      14\n",
       "Czech Republic               12\n",
       "Serbia                       12\n",
       "Macedonia                    12\n",
       "Cyprus                       11\n",
       "India                         9\n",
       "Switzerland                   7\n",
       "Luxembourg                    6\n",
       "Armenia                       2\n",
       "Bosnia and Herzegovina        2\n",
       "Slovakia                      1\n",
       "Egypt                         1\n",
       "China                         1\n",
       "Name: country, dtype: int64"
      ]
     },
     "execution_count": 2,
     "metadata": {},
     "output_type": "execute_result"
    }
   ],
   "source": [
    "wine_data['country'].value_counts()"
   ]
  },
  {
   "cell_type": "code",
   "execution_count": 3,
   "metadata": {},
   "outputs": [
    {
     "data": {
      "text/plain": [
       "Seductively tart in lemon pith, cranberry and pomegranate, this refreshing, light-bodied quaff is infinitely enjoyable, both on its own or at the table. It continues to expand on the palate into an increasing array of fresh flavors, finishing in cherry and orange.                                                                                                                                                                                                  3\n",
       "Gravenstein apple, honeysuckle and jasmine aromas show on the relatively boisterous nose of this bottling from a large vineyard on Highway 46 east of Paso Robles. There is compellingly grippy texture to the sip, with ripe flavors of pear and honeydew melon. A salty acidity takes it to the next level.                                                                                                                                                             3\n",
       "Ripe plum, game, truffle, leather and menthol are some of the aromas you'll find on this earthy wine. The tightly wound palate offers dried black cherry, chopped sage, mint and roasted coffee bean alongside raspy tannins that leave a mouth-drying finish.                                                                                                                                                                                                            3\n",
       "Cigar box, café au lait, and dried tobacco aromas are followed by coffee and cherry flavors, with barrel spices lingering on the finish. The wood gets a bit out front but it still delivers enjoyment.                                                                                                                                                                                                                                                                   3\n",
       "This zesty red has pretty aromas that suggest small red berry, blue flower and a whiff of moist soil. The vibrant palate offers sour cherry, pomegranate and a hint of anise alongside zesty acidity and refined tannins.                                                                                                                                                                                                                                                 3\n",
       "Stalky aromas suggest hay and green herbs, with raspberry in the backdrop. It's hot and short in terms of mouthfeel, with herbal flavors leading the way and berry fruit running behind. Dry red fruit and herbal notes dominate the finish.                                                                                                                                                                                                                              3\n",
       "Notes of tart lemon peel appear on the nose. The lean and light body continues in that lemony vein with brisk freshness. This wine is light, with a slight texture made up of yeastiness and zesty lemon. Some notes of grass appear on the finish. Drink this light, dry wine soon.                                                                                                                                                                                      2\n",
       "Bracing acidity offsets plush and penetrating peach and marmalade flavors in this delightfully honeyed auslese. It's bold in flavor yet so sprightly in demeanor, finishing long on lingering tones of saffron and spice. It's delicious now but structured enough to continue to improve through at least 2026.                                                                                                                                                          2\n",
       "This serious red blend puts together a texture firmed up with gripping tannins and acidity, flavors brimming with blackberry and sweet spices and a lingering finish. Too structured to appreciate alone, it will need pairing with roast beef, lasagna, ribs or the like.                                                                                                                                                                                                2\n",
       "Bright and savory, this foaming dessert wine comes with the enticing aromas and flavors of ripe apricot, yellow peach, sage and tangerine. Crisp acidity brightens the rich creamy flavors.                                                                                                                                                                                                                                                                               2\n",
       "Here is a friendly, fruity, medium-bodied wine with light apple and pear aromas. Off-dry flavors are more melony and floral, and the wine has a relatively soft texture. Made from old vines and fermented in stainless steel, it offers subtle charms.                                                                                                                                                                                                                   2\n",
       "This estate-grown Pinot Grigio takes the variety's basic citrus, straw, green apple and tropical fruit flavors and lifts them with partial barrel fermentation. It's a rich, but balanced, wine for drinking with almost anything.                                                                                                                                                                                                                                        2\n",
       "Albariño is rare enough in Oregon, but virtually unknown in the Willamette Valley. This estate-grown wine, from a vineyard in the valley's southwest corner, makes a solid case for more. Tart and tangy with brightly defined flavors of grapefruit, apple and pineapple, this is deliciously bracing. There's nothing simple about it; the flavors extend and expand through a wonderfully long finish.                                                                 2\n",
       "Just-ripe green pears and scented spring flowers make this a charming proposition. Underneath, a firm and concentrated body unfolds into a refreshing and long finish.                                                                                                                                                                                                                                                                                                    2\n",
       "Lots of Anjou pear and Fuji apple flavors enrich this medium-bodied and refreshing wine. It has a light straw color and open flavors of ripe fruit and citrus. The texture is very smooth, and the finish has a touch of ripe-fruit sweetness.                                                                                                                                                                                                                            2\n",
       "This blend of Chardonnay and Gewürztraminer opens with pungent aromas of peppermint, dried apricot and caramel candy. Loads of honey and yellow fruit flavors follow on the palate, backed by a rich, almost chewy, consistency.                                                                                                                                                                                                                                          2\n",
       "Like many Marlborough Sauvignon Blancs, this one starts off leafy and pungent, then develops greater depth of white nectarine and grapefruit on the palate. It's plump, medium-bodied and slightly creamy in texture, making it an attractively versatile option.                                                                                                                                                                                                         2\n",
       "High-toned aromas of herb, flower, spice and cherry are followed by tart elegantly styled fruit flavors. The new oak influence seems minimal. Pair it with food to see it at its best.                                                                                                                                                                                                                                                                                    2\n",
       "Tart lime and gooseberry aromas turn plush and plump on the palate of this lip-smackingly ripe spätlese. Apricot and yellow peach flavors penetrate deeply, catapulted by shards of lemon-lime acidity. It's breathlessly light in body, yet lingers long, leaving airy kisses of blossom and fresh herb in its wake. Irresistible already but should improve through 2025.                                                                                               2\n",
       "This ripe wine has rich black fruits, a smoky character and a rounded, full-bodied texture. The old vines bring concentration, while the acidity gives freshness and drinkability now.                                                                                                                                                                                                                                                                                    2\n",
       "Leather, menthol, dark-skinned berry and light toast aromas slowly come together on this fresh, polished wine. The lithe, straightforward palate offers wild cherry, anise, orange peel and a hint of coffee while fine-grained tannins and vibrant acidity provide the framework.                                                                                                                                                                                        2\n",
       "Lemon peel, wet clay, sandalwood and nutmeg aromas are inviting. In the mouth, it's tight and tannic, but lively, with leather and roasted berry flavors. Finishes firm, tight and a bit clipped and choppy. A reflection of 2008's tough conditions.                                                                                                                                                                                                                     2\n",
       "Here's an elegant and rich 50-50 blend of Cabernet Sauvignon and Merlot from a boutique Bolgheri producer (with a small case production) that delivers mature fruit, spice, hazelnut and chocolate. It shows sun-ripened aromas that would pair well with grilled lamb chops.                                                                                                                                                                                             2\n",
       "The aromas are bright, with notes of green herb, vanilla, clove, wood spice and cherry. The palate brings a mouthful of dark-fruit flavors along with barrel accents, providing a whole lot of texture and appeal.                                                                                                                                                                                                                                                        2\n",
       "From one of Lazio's most promising wineries, this white blend of indigenous grapes delivers a fragrant bouquet of peach blossom, citrus, pear and apple. The mouthfeel is smooth and silky, with a touch of crisp freshness on the finish.                                                                                                                                                                                                                                2\n",
       "This is dry, full bodied and pretty tannic, with a sense of elegance, plus flavors of sour cherry candy, red licorice, tobacco and sweet, smoky cedar.                                                                                                                                                                                                                                                                                                                    2\n",
       "Crushed stones and citrus blossoms perfume this fresh, primary Pinot Blanc. It's a bit puckery on the palate, but balanced nicely by sweet-tart peach and apple flavors. Ready to drink now, it's a value wine with a refreshing, widely appealing style.                                                                                                                                                                                                                 2\n",
       "Here's a very rich and full-bodied wine. It does have structure, giving firm tannins to balance the ripe red berry fruits. With this solid character, the wine will age and should be drunk from 2016.                                                                                                                                                                                                                                                                    2\n",
       "Light aromas of tropical fruits and acacia blossom show a note of ginger. This has a citrusy, fairly full body and flavors of lime, pineapple and mango that turn more towards citrus on the finish.                                                                                                                                                                                                                                                                      2\n",
       "Montes' first Alpha Malbec is serious and healthy, with rubbery, leathery berry aromas and crusty, dark oak scents. This is full and fairly oaky on the tongue, with herbal black-fruit flavors, raw wood notes, espresso-like bitterness and heat on the finish.                                                                                                                                                                                                         2\n",
       "                                                                                                                                                                                                                                                                                                                                                                                                                                                                         ..\n",
       "A seven-acre vineyard on the eastern side of Mercurey gives a wine that is broad and ripe. Both its structure and its juicy red fruits are generous and with a firm core of tannins. The wine is likely to age well. Drink from 2022.                                                                                                                                                                                                                                     1\n",
       "Somewhat underripe, this Bordeaux-style blend has modest cherry and boiled asparagus flavors.                                                                                                                                                                                                                                                                                                                                                                             1\n",
       "This delivers classic Sangiovese aromas of pressed rose, violet, perfumed berry and forest floor with a balsamic note. The palate shows dried black cherry, vanilla, licorice and confectionary note alongside a bitter accent of powdered sage. Astringent tannins lead to an abrupt, drying finish.                                                                                                                                                                     1\n",
       "Lots of richness in this smoky young Merlot. You'll find detailed flavors of grilled blackberries, red and black cherry preserves, leather, anise and cedar. It's a finely structured, dry wine whose tannins will work against rosemary-scented broiled lamb chops.                                                                                                                                                                                                      1\n",
       "Dark cherry and black licorice flavors combine in this wine from a 1,650-feet-elevation, estate-grown site. Moderate acidity buoys the fruit's ripeness and concentration, structured with firm, tight tannins.                                                                                                                                                                                                                                                           1\n",
       "More floral and ethereal than the producer's reserve bottling, this delicately concentrated Gamay suggests juicy, crisp red cherries and strawberries. It's a pretty, subtly structured wine with softer, yielding tannins.                                                                                                                                                                                                                                               1\n",
       "This is a beautiful wine—rich, smooth and balanced. It has weight, great blackberry and damson fruit and a judicious hint of wood. Spice, ripe fruit and fresh acidity all call for aging. Drink from 2016.                                                                                                                                                                                                                                                               1\n",
       "Aromas of toast, menthol, wild berry and oak take shape in the glass. The palate delivers dried black cherry, well-integrated oak, coconut, espresso, mocha and a hint of anisette balanced by firm, slightly astringent tannins.                                                                                                                                                                                                                                         1\n",
       "Quite light in the glass, this 50-50 blend from La Encanta and La Rinconada vineyards is done in a refreshingly crisp style, with lime pith and nectarine flesh aromas. It's fresh and vibrant on the palate, where tons of chalky grip frame a sizzling lime zest acidity and flavors of river stone and chalk. It's a laser-focused, very tense and nervy wine.                                                                                                         1\n",
       "Available in magnum only, this is an occasional bottling from the winery. A winery spokeperson told me my bottle was entirely 1993 vintage, but not all other bottles are. The wine is extraordinarily fine, but compared to other California bubblies, it's sandpapery and almost harsh at this point. As it warms up in the glass it shows an immense toasted nut and grilled fruit richness with an impossibly long finish. This is one to stash for the long haul.    1\n",
       "With grapes coming from the Marne Valley, this wine is rich with ripe grapes. At the same time, it has a balance with an acidity and soft aftertaste that makes it immediately drinkable.                                                                                                                                                                                                                                                                                 1\n",
       "The 2015s Tavels are almost uniformly excellent, so it's no surprise that this bottling, from a large estate excels. Crushed stone and strawberry notes mark the nose, while the full-bodied palate folds in hints of savory, olive-like complexity. Drink now.                                                                                                                                                                                                           1\n",
       "Concentrated yet balanced, this age-worthy wine is juicy in blackberry and currant, with a chewiness to the palate that gives it strength and power. Tar, tobacco and pencil lead shift around on the palate, before the wine finishes clean and sinewy. Cellar through 2020.                                                                                                                                                                                             1\n",
       "Smells like wet clay with an accent of floral black fruit. In the mouth, it's edgy and sharp, with rock-hard tannins that clamp down. Tastes lactic but not creamy, with sharp red-fruit flavors and a hard finish.                                                                                                                                                                                                                                                       1\n",
       "88-90 Barrel sample. A light style, moving into delicate citrus and crisp fruits. It shows a lively palate, with a tight, dry core of botrytis.                                                                                                                                                                                                                                                                                                                           1\n",
       "A blend of 90% Sangiovese and 10% Merlot, this wine commences with aromas of blueberry jam, black currants and spice. The structured, fruity palate delivers rich black cherry, blackberry and vanilla layered with chocolate and nutmeg alongside firm but fine tannins.                                                                                                                                                                                                 1\n",
       "Here's a strongly mineral-driven expression of Chardonnay with a polished, linear appeal in its clean aromas and crisp mouthfeel. The wine is luminous and light and would pair with seafood or a fresh Caesar salad.                                                                                                                                                                                                                                                     1\n",
       "This  blend of Cab, Sangiovese and Merlot has a fruity, almost sweet nose that recalls almond paste or Amaretto, with tones of blueberry and raspberry in the background. It's a fruitier, more immediate wine with pretty renderings of oak and toasted nut in the background. It's also clean and elegant with good staying power.                                                                                                                                      1\n",
       "Pure varietal, this is a relatively light take on Syrah, but balanced and showing some nice details of tobacco and licorice. The fruit is tart—a mix of rhubarb and tangy red berry—and there's ample acidity for those who like their reds to snap into focus.                                                                                                                                                                                                           1\n",
       "Intense violet, dark berry, ground pepper and a whiff of leather are some of the aromas you'll discover in this radiant wine. Concentrated and delicious, the palate brings flavors of blackberry, black cherry, clove and tobacco, while fresh acidity and velvety tannins provide balance. Soft but structured, it's already tempting, but wait a few more years for added depth.                                                                                       1\n",
       "Ripe and fruity, this bears its red berry flavor right up front. It has richness and concentration, and the tannins give a core of dryness to this otherwise fruit-forward wine.                                                                                                                                                                                                                                                                                          1\n",
       "Like a great juggler, this Cabernet balances exceptionally ripe fruit and sweet new oak with fine tannins and acids to yield a wine of exquisite poise and delight. The flavors, of black cherries and mocha, are just delicious, while fairly high alcohol brings a rich headiness. Drink now-2016.                                                                                                                                                                      1\n",
       "Classic old-school Carmenère aromas of bell pepper, olive and hard spices accent black cherry and plum notes in front of a full, mostly well-balanced palate. Herbal red-plum flavors are a touch salty, while the finish is minty and oaky tasting, with a hint of green.                                                                                                                                                                                                1\n",
       "Here's a mature red wine from Maremma, Tuscany with ripe notes of cherry, chocolate, prune and black plum followed by exotic spice and spicy mesquite flavors. The wine is sweet, round and slightly jammy in the mouth but washes over the palate with generosity and intensity.                                                                                                                                                                                         1\n",
       "Still young and tight, this terroir-driven Chardonnay needs further cellaring to show its best. Woody scents top off crisp, persistent tree fruits, with lemony acids propping up flavors. It's dense, compact and unyielding, but clearly the raw materials for ageworthiness are there.                                                                                                                                                                                 1\n",
       "Blended with 15% Syrah, this is a distinctive wine with aromas of herbs, coffee and vanilla. The palate seems wound up, not quite ready to reveal its charms.                                                                                                                                                                                                                                                                                                             1\n",
       "Aromas of wisteria, young Bartlett pear and citrus lead the nose on this quenching sparkler. The racy, elegant palate offers grapefruit, green apple and lime alongside tangy acidity and an energized perlage. An almond note closes the finish.                                                                                                                                                                                                                         1\n",
       "A good value in dry Riesling, this bottling features potent petrol, truffled honey and pineapple notes on the nose, while on the palate it's medium bodied, turning crisp and lean on the finish.                                                                                                                                                                                                                                                                         1\n",
       "Leesy aromas of tropical fruits, banana and canned peaches are sweet and candied but fair. Good acidity keeps this upright, while apple juice, peach and citrus flavors finish short but clean.                                                                                                                                                                                                                                                                           1\n",
       "With 19 months spent in French oak, this is a big and powerful Cab based wine (with 18% Merlot) that has the drive and stuffing to hold nicely through 2015. Black fruit dominates with supporting notes of licorice, fruit cake, coffee and Asian spice. The velvety texture and firm structure make this an ideal choice for pairing with hearty meat entrées.                                                                                                          1\n",
       "Name: description, Length: 119955, dtype: int64"
      ]
     },
     "execution_count": 3,
     "metadata": {},
     "output_type": "execute_result"
    }
   ],
   "source": [
    "wine_data['description'].value_counts()"
   ]
  },
  {
   "cell_type": "code",
   "execution_count": 4,
   "metadata": {},
   "outputs": [
    {
     "data": {
      "text/plain": [
       "Reserve                                   2009\n",
       "Estate                                    1322\n",
       "Reserva                                   1259\n",
       "Riserva                                    698\n",
       "Estate Grown                               621\n",
       "Brut                                       513\n",
       "Dry                                        413\n",
       "Barrel sample                              375\n",
       "Crianza                                    343\n",
       "Estate Bottled                             342\n",
       "Vieilles Vignes                            308\n",
       "Brut Rosé                                  276\n",
       "Gran Reserva                               261\n",
       "Barrel Sample                              252\n",
       "Tradition                                  238\n",
       "Old Vine                                   221\n",
       "Extra Dry                                  204\n",
       "Rosé of                                    172\n",
       "Rosé                                       166\n",
       "Réserve                                    153\n",
       "Single Vineyard                            131\n",
       "Vintage                                    128\n",
       "Estate Reserve                             125\n",
       "Bien Nacido Vineyard                       120\n",
       "Late Harvest                               112\n",
       "Classic                                    111\n",
       "Unoaked                                    110\n",
       "Barrel Select                              106\n",
       "Late Bottled Vintage                        99\n",
       "Blanc de Blancs Brut                        96\n",
       "                                          ... \n",
       "Reserve Block                                1\n",
       "Cuvée des Dames Chardonnay Brut              1\n",
       "Cinque Stelle Collezione Ca' del Pipa        1\n",
       "Bacigalupi Vinyard                           1\n",
       "BDX Northridge Vineyard                      1\n",
       "Black St. Peters                             1\n",
       "21 Barriques                                 1\n",
       "Vintners Blend Red Table Wine                1\n",
       "Capitel Nicalò                               1\n",
       "Le Rouge et Le Noir                          1\n",
       "Bread & Cheese                               1\n",
       "Dona Matilde Tinto                           1\n",
       "MB                                           1\n",
       "Garnachas Atlánticas                         1\n",
       "Manene                                       1\n",
       "Mercedes Riverblock                          1\n",
       "friends.red                                  1\n",
       "Marea Wild Ferment                           1\n",
       "Dulce Tinto                                  1\n",
       "Rose de Purcari                              1\n",
       "Leslie's Reserve                             1\n",
       "Reserva Espiritu de Los Andes Rosé           1\n",
       "Lacrimarosa Rosé                             1\n",
       "Oberfeld Erste Lage Alte Reben Reserve       1\n",
       "Sixième Géneration                           1\n",
       "Lacima                                       1\n",
       "Reserve Lower Block                          1\n",
       "Orange Apéritif                              1\n",
       "Cellarius Rosé                               1\n",
       "Mont Sec Vineyards                           1\n",
       "Name: designation, Length: 37979, dtype: int64"
      ]
     },
     "execution_count": 4,
     "metadata": {},
     "output_type": "execute_result"
    }
   ],
   "source": [
    "wine_data['designation'].value_counts()"
   ]
  },
  {
   "cell_type": "code",
   "execution_count": 5,
   "metadata": {},
   "outputs": [
    {
     "data": {
      "text/plain": [
       "California                   36247\n",
       "Washington                    8639\n",
       "Bordeaux                      5941\n",
       "Tuscany                       5897\n",
       "Oregon                        5373\n",
       "Burgundy                      3980\n",
       "Northern Spain                3851\n",
       "Piedmont                      3729\n",
       "Mendoza Province              3264\n",
       "Veneto                        2716\n",
       "New York                      2688\n",
       "Alsace                        2440\n",
       "Northeastern Italy            2138\n",
       "Loire Valley                  1856\n",
       "Sicily & Sardinia             1797\n",
       "Champagne                     1613\n",
       "Southwest France              1503\n",
       "Southern Italy                1349\n",
       "South Australia               1349\n",
       "Provence                      1346\n",
       "Douro                         1281\n",
       "Central Italy                 1233\n",
       "Catalonia                     1164\n",
       "Rhône Valley                  1081\n",
       "Beaujolais                    1044\n",
       "Mosel                         1039\n",
       "Alentejano                     937\n",
       "Colchagua Valley               830\n",
       "Marlborough                    798\n",
       "Virginia                       777\n",
       "                             ...  \n",
       "Pocerina                         1\n",
       "Krania Olympus                   1\n",
       "Elazığ-Diyarbakir                1\n",
       "Hawaii                           1\n",
       "Egypt                            1\n",
       "Slovenska Istra                  1\n",
       "Muscat of Kefallonian            1\n",
       "Cape Agulhas                     1\n",
       "Rhode Island                     1\n",
       "Gladstone                        1\n",
       "Muscat of Patras                 1\n",
       "Urla-Thrace                      1\n",
       "China                            1\n",
       "Sterea Ellada                    1\n",
       "Alenteo                          1\n",
       "Lemesos                          1\n",
       "Beotia                           1\n",
       "Muzla                            1\n",
       "Canada Other                     1\n",
       "Imathia                          1\n",
       "Vinho da Mesa                    1\n",
       "Lutzville Valley                 1\n",
       "Viile Timis                      1\n",
       "Arcadia                          1\n",
       "Corinthia                        1\n",
       "Central Greece                   1\n",
       "Lesbos                           1\n",
       "Middle and South Dalmatia        1\n",
       "Casablanca-Curicó Valley         1\n",
       "Paardeberg                       1\n",
       "Name: province, Length: 425, dtype: int64"
      ]
     },
     "execution_count": 5,
     "metadata": {},
     "output_type": "execute_result"
    }
   ],
   "source": [
    "wine_data['province'].value_counts()"
   ]
  },
  {
   "cell_type": "code",
   "execution_count": 6,
   "metadata": {},
   "outputs": [
    {
     "data": {
      "text/plain": [
       "Napa Valley                                4480\n",
       "Columbia Valley (WA)                       4124\n",
       "Russian River Valley                       3091\n",
       "California                                 2629\n",
       "Paso Robles                                2350\n",
       "Willamette Valley                          2301\n",
       "Mendoza                                    2301\n",
       "Alsace                                     2163\n",
       "Champagne                                  1613\n",
       "Barolo                                     1599\n",
       "Finger Lakes                               1565\n",
       "Sonoma Coast                               1474\n",
       "Brunello di Montalcino                     1470\n",
       "Rioja                                      1469\n",
       "Sonoma County                              1246\n",
       "Toscana                                    1197\n",
       "Walla Walla Valley (WA)                    1066\n",
       "Chianti Classico                           1062\n",
       "Santa Barbara County                       1000\n",
       "Carneros                                    999\n",
       "Yakima Valley                               997\n",
       "Sta. Rita Hills                             975\n",
       "Dry Creek Valley                            939\n",
       "Sicilia                                     925\n",
       "Côtes de Provence                           859\n",
       "Santa Ynez Valley                           812\n",
       "Santa Lucia Highlands                       806\n",
       "Lodi                                        803\n",
       "Barbaresco                                  794\n",
       "Alexander Valley                            784\n",
       "                                           ... \n",
       "Currency Creek                                1\n",
       "Vino de la Tierra Contraviesa Alpujarra       1\n",
       "Texoma                                        1\n",
       "Sonoma-Mendocino                              1\n",
       "Colli del Limbara                             1\n",
       "Grave del Friuli                              1\n",
       "Bourgogne Vézelay                             1\n",
       "Monterey-San Luis Obispo-Santa Barbara        1\n",
       "Frascati                                      1\n",
       "Southern Flinders Ranges                      1\n",
       "Côtes du Roussillon Villages Caramany         1\n",
       "Valpolicella Valpantena                       1\n",
       "Rosso di Cerignola                            1\n",
       "Vin Pétillant                                 1\n",
       "Apremont                                      1\n",
       "Château-Chalon                                1\n",
       "Geelong                                       1\n",
       "Massachusetts                                 1\n",
       "Monterey County-Napa County                   1\n",
       "Clairette de Bellegarde                       1\n",
       "Catalanesca del Monte Somma                   1\n",
       "Mâcon-Mancey                                  1\n",
       "Mount Barker & Margaret River                 1\n",
       "Currency Creek-McLaren Vale                   1\n",
       "Valpolicella Valpantena Superiore             1\n",
       "Langhorne Creek-Limestone Coast               1\n",
       "Côtes du Frontonnais                          1\n",
       "Isle St. George                               1\n",
       "Vallée du Paradis                             1\n",
       "Est! Est!! Est!!! di Montefiascone            1\n",
       "Name: region_1, Length: 1229, dtype: int64"
      ]
     },
     "execution_count": 6,
     "metadata": {},
     "output_type": "execute_result"
    }
   ],
   "source": [
    "wine_data['region_1'].value_counts()"
   ]
  },
  {
   "cell_type": "code",
   "execution_count": 7,
   "metadata": {},
   "outputs": [
    {
     "data": {
      "text/plain": [
       "Central Coast        11065\n",
       "Sonoma                9028\n",
       "Columbia Valley       8103\n",
       "Napa                  6814\n",
       "Willamette Valley     3423\n",
       "California Other      2663\n",
       "Finger Lakes          1777\n",
       "Sierra Foothills      1462\n",
       "Napa-Sonoma           1169\n",
       "Central Valley        1062\n",
       "Southern Oregon        917\n",
       "Oregon Other           727\n",
       "Long Island            680\n",
       "North Coast            584\n",
       "Washington Other       534\n",
       "South Coast            272\n",
       "New York Other         231\n",
       "Name: region_2, dtype: int64"
      ]
     },
     "execution_count": 7,
     "metadata": {},
     "output_type": "execute_result"
    }
   ],
   "source": [
    "wine_data['region_2'].value_counts()"
   ]
  },
  {
   "cell_type": "code",
   "execution_count": 8,
   "metadata": {},
   "outputs": [
    {
     "data": {
      "text/plain": [
       "Roger Voss            25514\n",
       "Michael Schachner     15134\n",
       "Kerin O’Keefe         10776\n",
       "Virginie Boone         9537\n",
       "Paul Gregutt           9532\n",
       "Matt Kettmann          6332\n",
       "Joe Czerwinski         5147\n",
       "Sean P. Sullivan       4966\n",
       "Anna Lee C. Iijima     4415\n",
       "Jim Gordon             4177\n",
       "Anne Krebiehl MW       3685\n",
       "Lauren Buzzeo          1835\n",
       "Susan Kostrzewa        1085\n",
       "Mike DeSimone           514\n",
       "Jeff Jenssen            491\n",
       "Alexander Peartree      415\n",
       "Carrie Dykes            139\n",
       "Fiona Adams              27\n",
       "Christina Pickard         6\n",
       "Name: taster_name, dtype: int64"
      ]
     },
     "execution_count": 8,
     "metadata": {},
     "output_type": "execute_result"
    }
   ],
   "source": [
    "wine_data['taster_name'].value_counts()"
   ]
  },
  {
   "cell_type": "code",
   "execution_count": 9,
   "metadata": {},
   "outputs": [
    {
     "data": {
      "text/plain": [
       "@vossroger          25514\n",
       "@wineschach         15134\n",
       "@kerinokeefe        10776\n",
       "@vboone              9537\n",
       "@paulgwine           9532\n",
       "@mattkettmann        6332\n",
       "@JoeCz               5147\n",
       "@wawinereport        4966\n",
       "@gordone_cellars     4177\n",
       "@AnneInVino          3685\n",
       "@laurbuzz            1835\n",
       "@suskostrzewa        1085\n",
       "@worldwineguys       1005\n",
       "@bkfiona               27\n",
       "@winewchristina         6\n",
       "Name: taster_twitter_handle, dtype: int64"
      ]
     },
     "execution_count": 9,
     "metadata": {},
     "output_type": "execute_result"
    }
   ],
   "source": [
    "wine_data['taster_twitter_handle'].value_counts()"
   ]
  },
  {
   "cell_type": "code",
   "execution_count": 10,
   "metadata": {},
   "outputs": [
    {
     "data": {
      "text/plain": [
       "Gloria Ferrer NV Sonoma Brut Sparkling (Sonoma County)                                    11\n",
       "Korbel NV Brut Sparkling (California)                                                      9\n",
       "Segura Viudas NV Extra Dry Sparkling (Cava)                                                8\n",
       "Ruinart NV Brut Rosé  (Champagne)                                                          7\n",
       "Segura Viudas NV Aria Estate Extra Dry Sparkling (Cava)                                    7\n",
       "Gloria Ferrer NV Blanc de Noirs Sparkling (Carneros)                                       7\n",
       "Pierre Sparr NV Brut Réserve Sparkling (Crémant d'Alsace)                                  6\n",
       "J Vineyards & Winery NV Brut Rosé Sparkling (Russian River Valley)                         6\n",
       "Jacquart NV Brut Mosaïque  (Champagne)                                                     6\n",
       "Bailly-Lapierre NV Brut  (Crémant de Bourgogne)                                            6\n",
       "Korbel NV Sweet Rosé Sparkling (California)                                                6\n",
       "Boizel NV Brut Réserve  (Champagne)                                                        6\n",
       "Mumm Napa NV Brut Prestige Sparkling (Napa Valley)                                         6\n",
       "Freixenet NV Cordon Negro Brut Sparkling (Cava)                                            5\n",
       "Thiénot NV Brut  (Champagne)                                                               5\n",
       "Chandon NV Rosé Sparkling (California)                                                     5\n",
       "Segura Viudas NV Reserva Heredad Sparkling (Cava)                                          5\n",
       "Freixenet NV Cordon Negro Extra Dry Sparkling (Cava)                                       5\n",
       "Pommery NV Brut Royal  (Champagne)                                                         5\n",
       "Roederer Estate NV Brut Rosé Sparkling (Anderson Valley)                                   5\n",
       "J. Dumangin Fils NV Le Rosé Premier Cru Brut  (Champagne)                                  5\n",
       "Mumm Napa NV Cuvée M Sparkling (Napa Valley)                                               5\n",
       "Korbel NV Blanc de Noirs Sparkling (California)                                            5\n",
       "Breathless NV Brut Sparkling (North Coast)                                                 5\n",
       "Jean Laurent NV Blanc de Noirs Brut Pinot Noir (Champagne)                                 5\n",
       "Mailly Grand Cru NV Délice Demi-Sec  (Champagne)                                           5\n",
       "Henri Abele NV Brut  (Champagne)                                                           5\n",
       "Heidsieck & Co Monopole NV Blue Top Brut  (Champagne)                                      5\n",
       "Thiénot NV Brut Rosé  (Champagne)                                                          5\n",
       "Mailly Grand Cru NV Blanc de Noirs Brut Pinot Noir (Champagne)                             5\n",
       "                                                                                          ..\n",
       "Domaine de Suremain 2014 En Sazenay Premier Cru  (Mercurey)                                1\n",
       "Brotte 2016 Bord Elegance White (Laudun)                                                   1\n",
       "Saint K 2016 Luna Matta Vineyard Grenache Blanc (Paso Robles)                              1\n",
       "Maycas del Limari 2007 Reserva Especial Sauvignon Blanc (Limarí Valley)                    1\n",
       "Valle dell'Acate 2006 Il Frappato Frappato (Sicilia)                                       1\n",
       "Gallo Signature Series 2010 Chardonnay (Russian River Valley)                              1\n",
       "Vignobles Fontan 2015 Domaine de Maubet Gros Manseng (Côtes de Gascogne)                   1\n",
       "Domaine Saint-André de Figuière 2009 Vieilles Vignes Rosé (Côtes de Provence)              1\n",
       "Nieto Senetiner 2005 Reserva Cabernet Sauvignon-Shiraz (Mendoza)                           1\n",
       "Acacia 2012 Winery Lake Vineyard Pinot Noir (Carneros)                                     1\n",
       "Robert Mondavi 2009 To Kalon Vineyard I-Block Fumé Blanc (Oakville)                        1\n",
       "Jelly Jar 2006 Nova Vineyard Old Vine Zinfandel (Lake County)                              1\n",
       "Simonsig 2013 Redhill Pinotage (Stellenbosch)                                              1\n",
       "Mark Ryan 2011 Lonely Heart Cabernet Sauvignon (Red Mountain)                              1\n",
       "Annefield Vineyards 2011 Rosé (Virginia)                                                   1\n",
       "Spring Valley Vineyard 2010 Katherine Corkrum Cabernet Franc (Walla Walla Valley (WA))     1\n",
       "Lanciola 2012 Le Masse di Greve  (Chianti Classico)                                        1\n",
       "DFJ Vinhos 2014 Portada Winemaker's Selection Branco White (Lisboa)                        1\n",
       "Santa Alba 2013 Reserve Merlot (Curicó Valley)                                             1\n",
       "Huré Frères NV Insouciance Brut Rosé  (Champagne)                                          1\n",
       "Casca Wines 2009 Monte Cascas Colheita White (Vinho Verde)                                 1\n",
       "PianCornello 2003 Piancornello  (Brunello di Montalcino)                                   1\n",
       "Veuve Doussot NV Blanc de Blancs Brut Chardonnay (Champagne)                               1\n",
       "Pardevalles 2006 Gamonal Prieto Picudo (Tierra de León)                                    1\n",
       "Dr. Heyden 2011 Alte Reben Trocken Silvaner (Rheinhessen)                                  1\n",
       "Milenrama 2013 Crianza  (Rioja)                                                            1\n",
       "Morlanda 1998 Crianza Red (Priorat)                                                        1\n",
       "Viña Chocalan 2013 Vitrum Malbec (Maipo Valley)                                            1\n",
       "Willm 2014 Réserve Riesling (Alsace)                                                       1\n",
       "Casale dello Sparviero 2012 Ada Andrighetti Gran Selezione  (Chianti Classico)             1\n",
       "Name: title, Length: 118840, dtype: int64"
      ]
     },
     "execution_count": 10,
     "metadata": {},
     "output_type": "execute_result"
    }
   ],
   "source": [
    "wine_data['title'].value_counts()"
   ]
  },
  {
   "cell_type": "code",
   "execution_count": 11,
   "metadata": {},
   "outputs": [
    {
     "data": {
      "text/plain": [
       "Pinot Noir                      13272\n",
       "Chardonnay                      11753\n",
       "Cabernet Sauvignon               9472\n",
       "Red Blend                        8946\n",
       "Bordeaux-style Red Blend         6915\n",
       "Riesling                         5189\n",
       "Sauvignon Blanc                  4967\n",
       "Syrah                            4142\n",
       "Rosé                             3564\n",
       "Merlot                           3102\n",
       "Nebbiolo                         2804\n",
       "Zinfandel                        2714\n",
       "Sangiovese                       2707\n",
       "Malbec                           2652\n",
       "Portuguese Red                   2466\n",
       "White Blend                      2360\n",
       "Sparkling Blend                  2153\n",
       "Tempranillo                      1810\n",
       "Rhône-style Red Blend            1471\n",
       "Pinot Gris                       1455\n",
       "Champagne Blend                  1396\n",
       "Cabernet Franc                   1353\n",
       "Grüner Veltliner                 1345\n",
       "Portuguese White                 1159\n",
       "Bordeaux-style White Blend       1066\n",
       "Pinot Grigio                     1052\n",
       "Gamay                            1025\n",
       "Gewürztraminer                   1012\n",
       "Viognier                          996\n",
       "Shiraz                            836\n",
       "                                ...  \n",
       "Vidadillo                           1\n",
       "Teroldego Rotaliano                 1\n",
       "Pinot Gris-Gewürztraminer           1\n",
       "Petit Meslier                       1\n",
       "Carcajolu                           1\n",
       "Parraleta                           1\n",
       "Pinot Blanc-Pinot Noir              1\n",
       "Pinot Grigio-Sauvignon Blanc        1\n",
       "Moscato di Noto                     1\n",
       "Colorino                            1\n",
       "Roscetto                            1\n",
       "Prunelard                           1\n",
       "Verdil                              1\n",
       "Dafni                               1\n",
       "Karalahna                           1\n",
       "Centesimino                         1\n",
       "Viognier-Valdiguié                  1\n",
       "Barbera-Nebbiolo                    1\n",
       "Meseguera                           1\n",
       "Blauburgunder                       1\n",
       "Vermentino Nero                     1\n",
       "Caprettone                          1\n",
       "Tamianka                            1\n",
       "Xinisteri                           1\n",
       "Riesling-Chardonnay                 1\n",
       "Früburgunder                        1\n",
       "Zelen                               1\n",
       "Roussanne-Grenache Blanc            1\n",
       "Graševina                           1\n",
       "Tsapournakos                        1\n",
       "Name: variety, Length: 707, dtype: int64"
      ]
     },
     "execution_count": 11,
     "metadata": {},
     "output_type": "execute_result"
    }
   ],
   "source": [
    "wine_data['variety'].value_counts()"
   ]
  },
  {
   "cell_type": "code",
   "execution_count": 12,
   "metadata": {},
   "outputs": [
    {
     "data": {
      "text/plain": [
       "Wines & Winemakers                222\n",
       "Testarossa                        218\n",
       "DFJ Vinhos                        215\n",
       "Williams Selyem                   211\n",
       "Louis Latour                      199\n",
       "Georges Duboeuf                   196\n",
       "Chateau Ste. Michelle             194\n",
       "Concha y Toro                     164\n",
       "Columbia Crest                    159\n",
       "Kendall-Jackson                   130\n",
       "Siduri                            126\n",
       "Gary Farrell                      125\n",
       "Lynmar                            118\n",
       "Albert Bichot                     117\n",
       "Montes                            117\n",
       "Undurraga                         113\n",
       "Casa Santos Lima                  113\n",
       "Jean-Luc and Paul Aegerter        113\n",
       "Trapiche                          113\n",
       "Robert Mondavi                    112\n",
       "Santa Ema                         112\n",
       "Chanson Père et Fils              109\n",
       "Fess Parker                       108\n",
       "V. Sattui                         107\n",
       "Iron Horse                        106\n",
       "Foxen                             105\n",
       "Louis Jadot                       104\n",
       "Maryhill                          102\n",
       "Feudi di San Gregorio             102\n",
       "Chehalem                          102\n",
       "                                 ... \n",
       "Domaine de l'Engarran               1\n",
       "Paua Rock                           1\n",
       "Château Macalan                     1\n",
       "Vitevis                             1\n",
       "La Cruz                             1\n",
       "Lone Canary                         1\n",
       "Château Majoureau                   1\n",
       "Damas                               1\n",
       "Uproot Wines                        1\n",
       "F. Mallo et Fils                    1\n",
       "Filipa Pato                         1\n",
       "Château Bel Air Moulard             1\n",
       "Francesco Boschis                   1\n",
       "Domaine du Tix                      1\n",
       "Château Puisseguin la Rigodrie      1\n",
       "Gruppo Casaleone                    1\n",
       "Zion Fine Wines                     1\n",
       "Alexis Sauvion                      1\n",
       "Château Espérance                   1\n",
       "Didier Dagueneau                    1\n",
       "Codice Citra                        1\n",
       "Robert's Rock                       1\n",
       "Rai                                 1\n",
       "Machine Breaker                     1\n",
       "C&B;                                1\n",
       "Purely Greece                       1\n",
       "Prospect 1870                       1\n",
       "Château Roque le Mayne              1\n",
       "Adrian Fog                          1\n",
       "Château d'Eck                       1\n",
       "Name: winery, Length: 16757, dtype: int64"
      ]
     },
     "execution_count": 12,
     "metadata": {},
     "output_type": "execute_result"
    }
   ],
   "source": [
    "wine_data['winery'].value_counts()"
   ]
  },
  {
   "cell_type": "markdown",
   "metadata": {},
   "source": [
    "## 二、统计数值属性信息"
   ]
  },
  {
   "cell_type": "markdown",
   "metadata": {},
   "source": [
    "### 1、wine数据集中共有两个数值属性：“points”和“price”,下面分别统计了其最大、最小、均值、中位数、四分数， 缺失值个数"
   ]
  },
  {
   "cell_type": "code",
   "execution_count": 13,
   "metadata": {},
   "outputs": [],
   "source": [
    "def value_state(x):\n",
    "    return pd.Series([x.max(),x.min(),x.mean(),x.median(),x.quantile(.25),x.quantile(.75),x.isnull().sum()], index = ['最大值为：','最小值为：','平均值为：',\n",
    "'中位数为：','Q1：','Q3：','缺失值个数为：'])"
   ]
  },
  {
   "cell_type": "markdown",
   "metadata": {},
   "source": [
    "### （1） \"points\"数值属性"
   ]
  },
  {
   "cell_type": "code",
   "execution_count": 14,
   "metadata": {},
   "outputs": [
    {
     "data": {
      "text/plain": [
       "最大值为：      100.000000\n",
       "最小值为：       80.000000\n",
       "平均值为：       88.447138\n",
       "中位数为：       88.000000\n",
       "Q1：         86.000000\n",
       "Q3：         91.000000\n",
       "缺失值个数为：      0.000000\n",
       "dtype: float64"
      ]
     },
     "execution_count": 14,
     "metadata": {},
     "output_type": "execute_result"
    }
   ],
   "source": [
    "value_state(wine_data['points'])"
   ]
  },
  {
   "cell_type": "markdown",
   "metadata": {},
   "source": [
    "### （2） \"price\"数值属性"
   ]
  },
  {
   "cell_type": "code",
   "execution_count": 15,
   "metadata": {},
   "outputs": [
    {
     "data": {
      "text/plain": [
       "最大值为：      3300.000000\n",
       "最小值为：         4.000000\n",
       "平均值为：        35.363389\n",
       "中位数为：        25.000000\n",
       "Q1：          17.000000\n",
       "Q3：          42.000000\n",
       "缺失值个数为：    8996.000000\n",
       "dtype: float64"
      ]
     },
     "execution_count": 15,
     "metadata": {},
     "output_type": "execute_result"
    }
   ],
   "source": [
    "value_state(wine_data['price'])"
   ]
  },
  {
   "cell_type": "markdown",
   "metadata": {},
   "source": [
    "### 2、下面分别对每个数值属性绘制直方图、盒图，并用qq图检验其分布是否为正态分布"
   ]
  },
  {
   "cell_type": "markdown",
   "metadata": {},
   "source": [
    "### （1） \"points\"属性的直方图、盒图和qq图"
   ]
  },
  {
   "cell_type": "code",
   "execution_count": 17,
   "metadata": {},
   "outputs": [
    {
     "data": {
      "image/png": "[encoded data removed]",
      "text/plain": [
       "<Figure size 432x288 with 1 Axes>"
      ]
     },
     "metadata": {
      "needs_background": "light"
     },
     "output_type": "display_data"
    }
   ],
   "source": [
    "import matplotlib.pyplot as plt\n",
    "wine_data['points'].plot.hist(grid=False,bins=20,title='price')\n",
    "plt.show()"
   ]
  },
  {
   "cell_type": "code",
   "execution_count": 18,
   "metadata": {},
   "outputs": [
    {
     "data": {
      "image/png": "[encoded data removed]",
      "text/plain": [
       "<Figure size 432x288 with 1 Axes>"
      ]
     },
     "metadata": {
      "needs_background": "light"
     },
     "output_type": "display_data"
    }
   ],
   "source": [
    "data = pd.DataFrame({\"points\":wine_data['points']})\n",
    "data.boxplot()\n",
    "plt.show()"
   ]
  },
  {
   "cell_type": "code",
   "execution_count": 19,
   "metadata": {},
   "outputs": [
    {
     "data": {
      "image/png": "[encoded data removed]",
      "text/plain": [
       "<Figure size 432x288 with 1 Axes>"
      ]
     },
     "metadata": {
      "needs_background": "light"
     },
     "output_type": "display_data"
    }
   ],
   "source": [
    "from scipy import stats\n",
    "stats.probplot(wine_data['points'], dist=\"norm\", plot=plt)\n",
    "plt.show()"
   ]
  },
  {
   "cell_type": "markdown",
   "metadata": {},
   "source": [
    "### 结论：对于\"points\"属性，由直方图看出，数据大多分布在85~92之间；由盒图看出离群点较少，只有两个；由qq图看出数据点都近似分布在一条直线附近，故符合正态分布"
   ]
  },
  {
   "cell_type": "markdown",
   "metadata": {},
   "source": [
    "### （2） \"price\"属性的直方图、盒图和qq图"
   ]
  },
  {
   "cell_type": "code",
   "execution_count": 20,
   "metadata": {},
   "outputs": [
    {
     "data": {
      "image/png": "[encoded data removed]",
      "text/plain": [
       "<Figure size 432x288 with 1 Axes>"
      ]
     },
     "metadata": {
      "needs_background": "light"
     },
     "output_type": "display_data"
    }
   ],
   "source": [
    "wine_data['price'].plot.hist(grid=False,bins=20,title='price')\n",
    "plt.show()"
   ]
  },
  {
   "cell_type": "code",
   "execution_count": 21,
   "metadata": {},
   "outputs": [
    {
     "data": {
      "image/png": "[encoded data removed]",
      "text/plain": [
       "<Figure size 432x288 with 1 Axes>"
      ]
     },
     "metadata": {
      "needs_background": "light"
     },
     "output_type": "display_data"
    }
   ],
   "source": [
    "data2 = pd.DataFrame({\"price\":wine_data['price']})\n",
    "data2.boxplot()\n",
    "plt.show()"
   ]
  },
  {
   "cell_type": "code",
   "execution_count": 22,
   "metadata": {},
   "outputs": [
    {
     "data": {
      "image/png": "[encoded data removed]",
      "text/plain": [
       "<Figure size 432x288 with 1 Axes>"
      ]
     },
     "metadata": {
      "needs_background": "light"
     },
     "output_type": "display_data"
    }
   ],
   "source": [
    "stats.probplot(wine_data['price'], dist=\"norm\", plot=plt)\n",
    "plt.show()"
   ]
  },
  {
   "cell_type": "markdown",
   "metadata": {},
   "source": [
    "### 结论：对于\"price\"属性，由直方图看出，数据大多分布在100以下；由盒图看出离群点较多，大部分集中在80～1000范围内；由qq图看出数据点没有近似分布在一条直线附近，故不符合正态分布"
   ]
  },
  {
   "cell_type": "markdown",
   "metadata": {},
   "source": [
    "## 三、 缺失值处理"
   ]
  },
  {
   "cell_type": "markdown",
   "metadata": {},
   "source": [
    "### 在两列数值属性中，只有\"price\"属性有缺失值，所以下面分别用4种方法对缺失值处理，分别为：剔除缺失部分、用最高频率值填补缺失值、通过属性的相关关系填补缺失值、通过数据对象之间的相似性来填补缺失值"
   ]
  },
  {
   "cell_type": "markdown",
   "metadata": {},
   "source": [
    "### （1）将缺失部分剔除，并重新绘制直方图和盒图"
   ]
  },
  {
   "cell_type": "code",
   "execution_count": 23,
   "metadata": {},
   "outputs": [
    {
     "data": {
      "image/png": "[encoded data removed]",
      "text/plain": [
       "<Figure size 432x288 with 1 Axes>"
      ]
     },
     "metadata": {
      "needs_background": "light"
     },
     "output_type": "display_data"
    },
    {
     "data": {
      "image/png": "[encoded data removed]",
      "text/plain": [
       "<Figure size 432x288 with 1 Axes>"
      ]
     },
     "metadata": {
      "needs_background": "light"
     },
     "output_type": "display_data"
    }
   ],
   "source": [
    "price_2=wine_data['price'].dropna()\n",
    "#print(price_2.isnull().sum())\n",
    "price_2.hist(grid=False,bins=20)\n",
    "plt.show()\n",
    "pd.DataFrame(price_2).boxplot()\n",
    "plt.show()"
   ]
  },
  {
   "cell_type": "markdown",
   "metadata": {},
   "source": [
    "### （2）用最高频率值来填补缺失值，并重新绘制直方图和盒图"
   ]
  },
  {
   "cell_type": "code",
   "execution_count": 24,
   "metadata": {},
   "outputs": [
    {
     "name": "stdout",
     "output_type": "stream",
     "text": [
      "0\n"
     ]
    },
    {
     "data": {
      "image/png": "[encoded data removed]",
      "text/plain": [
       "<Figure size 432x288 with 1 Axes>"
      ]
     },
     "metadata": {
      "needs_background": "light"
     },
     "output_type": "display_data"
    },
    {
     "data": {
      "image/png": "[encoded data removed]",
      "text/plain": [
       "<Figure size 432x288 with 1 Axes>"
      ]
     },
     "metadata": {
      "needs_background": "light"
     },
     "output_type": "display_data"
    }
   ],
   "source": [
    "price_3 = wine_data['price'].fillna(wine_data['price'].mode()[0])\n",
    "print(price_3.isnull().sum())\n",
    "price_3.hist(grid=False,bins=20)\n",
    "plt.show()\n",
    "pd.DataFrame(price_3).boxplot()\n",
    "plt.show()"
   ]
  },
  {
   "cell_type": "markdown",
   "metadata": {},
   "source": [
    "### （3）通过属性的相关关系来填补缺失值，并重新绘制直方图和盒图"
   ]
  },
  {
   "cell_type": "markdown",
   "metadata": {},
   "source": [
    "通过属性的相关关系来填补缺失值，实则是做拟合，即用其他数值属性来预测缺失值（本数据集中可以用”points“来拟合预测”price“）.拟合的方法有很多，线性拟合、回归、极大似然等，为了更具普遍性，这里选择了随机森林来做拟合."
   ]
  },
  {
   "cell_type": "code",
   "execution_count": 25,
   "metadata": {},
   "outputs": [
    {
     "name": "stderr",
     "output_type": "stream",
     "text": [
      "/usr/local/lib/python2.7/dist-packages/ipykernel_launcher.py:9: DataConversionWarning: A column-vector y was passed when a 1d array was expected. Please change the shape of y to (n_samples,), for example using ravel().\n",
      "  if __name__ == '__main__':\n"
     ]
    },
    {
     "name": "stdout",
     "output_type": "stream",
     "text": [
      "0\n"
     ]
    },
    {
     "data": {
      "image/png": "[encoded data removed]",
      "text/plain": [
       "<Figure size 432x288 with 1 Axes>"
      ]
     },
     "metadata": {
      "needs_background": "light"
     },
     "output_type": "display_data"
    },
    {
     "data": {
      "image/png": "[encoded data removed]",
      "text/plain": [
       "<Figure size 432x288 with 1 Axes>"
      ]
     },
     "metadata": {
      "needs_background": "light"
     },
     "output_type": "display_data"
    }
   ],
   "source": [
    "from sklearn.ensemble import RandomForestRegressor\n",
    "train=wine_data[wine_data['price'].notnull()]\n",
    "train_X=train[['points']]\n",
    "train_Y=train[['price']]\n",
    "test=wine_data[wine_data['price'].isnull()]\n",
    "test_x=test[['points']]\n",
    "test_y=test['price']\n",
    "model=RandomForestRegressor(n_estimators=100,oob_score=True,random_state=1)\n",
    "model.fit(train_X,train_Y)\n",
    "predicted_Price=model.predict(test_x)\n",
    "wine_data.loc[(wine_data['price'].isnull()),'price']=predicted_Price\n",
    "print(wine_data['price'].isnull().sum())\n",
    "wine_data['price'].hist(grid=False,bins=20)\n",
    "plt.show()\n",
    "pd.DataFrame({'price':wine_data['price']}).boxplot()\n",
    "plt.show()"
   ]
  },
  {
   "cell_type": "markdown",
   "metadata": {},
   "source": [
    "### （4）通过数据对象之间的相似性来填补缺失值"
   ]
  },
  {
   "cell_type": "markdown",
   "metadata": {},
   "source": [
    "#### 这里选择KNN算法"
   ]
  },
  {
   "cell_type": "code",
   "execution_count": 32,
   "metadata": {},
   "outputs": [],
   "source": [
    "import numpy as np\n",
    "import pandas as pd\n",
    "wine_data = pd.read_csv(\"/home/wangxuefei/Downloads/Dataset/wine-reviews/winemag-data-130k-v2.csv\", index_col=0)"
   ]
  },
  {
   "cell_type": "code",
   "execution_count": 33,
   "metadata": {},
   "outputs": [
    {
     "name": "stderr",
     "output_type": "stream",
     "text": [
      "/usr/local/lib/python2.7/dist-packages/ipykernel_launcher.py:9: DataConversionWarning: A column-vector y was passed when a 1d array was expected. Please change the shape of y to (n_samples, ), for example using ravel().\n",
      "  if __name__ == '__main__':\n"
     ]
    },
    {
     "name": "stdout",
     "output_type": "stream",
     "text": [
      "0\n"
     ]
    },
    {
     "data": {
      "image/png": "[encoded data removed]",
      "text/plain": [
       "<Figure size 432x288 with 1 Axes>"
      ]
     },
     "metadata": {
      "needs_background": "light"
     },
     "output_type": "display_data"
    },
    {
     "data": {
      "image/png": "[encoded data removed]",
      "text/plain": [
       "<Figure size 432x288 with 1 Axes>"
      ]
     },
     "metadata": {
      "needs_background": "light"
     },
     "output_type": "display_data"
    }
   ],
   "source": [
    "from sklearn.neighbors import KNeighborsClassifier\n",
    "train=wine_data[wine_data['price'].notnull()]\n",
    "train_X=train[['points']]\n",
    "train_Y=train[['price']]\n",
    "test=wine_data[wine_data['price'].isnull()]\n",
    "test_x=test[['points']]\n",
    "test_y=test['price']\n",
    "clf=KNeighborsClassifier(n_neighbors=3,weights='distance')\n",
    "clf.fit(train_X,train_Y)\n",
    "predicted_Price=clf.predict(test_x)\n",
    "wine_data.loc[(wine_data['price'].isnull()),'price']=predicted_Price\n",
    "print(wine_data['price'].isnull().sum())\n",
    "wine_data['price'].hist(grid=False,bins=20)\n",
    "plt.show()\n",
    "pd.DataFrame({'price':wine_data['price']}).boxplot()\n",
    "plt.show()"
   ]
  },
  {
   "cell_type": "markdown",
   "metadata": {},
   "source": [
    "### 结论：四种方法填补后打印出缺失值的个数为0，证明处理成功。由可视化的图形看出，处理前后差别并不明显，分析原因大概有两个方面：（1）缺失值个数不多，并不能对其整体趋势产生明显影响；（2）用属性相关关系和数据对象相似性填补缺失值时，因为只有\"points\"属性为数值类型，所以仅由此一列来进行相关关系和相似性分析，进而预测\"price\"缺失值，考虑因素较少。"
   ]
  }
 ],
 "metadata": {
  "kernelspec": {
   "display_name": "Python 2",
   "language": "python",
   "name": "python2"
  },
  "language_info": {
   "codemirror_mode": {
    "name": "ipython",
    "version": 2
   },
   "file_extension": ".py",
   "mimetype": "text/x-python",
   "name": "python",
   "nbconvert_exporter": "python",
   "pygments_lexer": "ipython2",
   "version": "2.7.12"
  }
 },
 "nbformat": 4,
 "nbformat_minor": 2
}
